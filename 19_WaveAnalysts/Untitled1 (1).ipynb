{
  "cells": [
    {
      "cell_type": "code",
      "execution_count": null,
      "metadata": {
        "colab": {
          "base_uri": "https://localhost:8080/"
        },
        "id": "dfWq4_Y09Nc9",
        "outputId": "cacb11b4-7aaa-4fe1-f12d-9b6988e227ba"
      },
      "outputs": [
        {
          "output_type": "stream",
          "name": "stdout",
          "text": [
            "Requirement already satisfied: pandas in /usr/local/lib/python3.11/dist-packages (2.2.2)\n",
            "Requirement already satisfied: numpy>=1.23.2 in /usr/local/lib/python3.11/dist-packages (from pandas) (2.0.2)\n",
            "Requirement already satisfied: python-dateutil>=2.8.2 in /usr/local/lib/python3.11/dist-packages (from pandas) (2.8.2)\n",
            "Requirement already satisfied: pytz>=2020.1 in /usr/local/lib/python3.11/dist-packages (from pandas) (2025.2)\n",
            "Requirement already satisfied: tzdata>=2022.7 in /usr/local/lib/python3.11/dist-packages (from pandas) (2025.2)\n",
            "Requirement already satisfied: six>=1.5 in /usr/local/lib/python3.11/dist-packages (from python-dateutil>=2.8.2->pandas) (1.17.0)\n",
            "Requirement already satisfied: numpy in /usr/local/lib/python3.11/dist-packages (2.0.2)\n",
            "Requirement already satisfied: matplotlib in /usr/local/lib/python3.11/dist-packages (3.10.0)\n",
            "Requirement already satisfied: contourpy>=1.0.1 in /usr/local/lib/python3.11/dist-packages (from matplotlib) (1.3.1)\n",
            "Requirement already satisfied: cycler>=0.10 in /usr/local/lib/python3.11/dist-packages (from matplotlib) (0.12.1)\n",
            "Requirement already satisfied: fonttools>=4.22.0 in /usr/local/lib/python3.11/dist-packages (from matplotlib) (4.57.0)\n",
            "Requirement already satisfied: kiwisolver>=1.3.1 in /usr/local/lib/python3.11/dist-packages (from matplotlib) (1.4.8)\n",
            "Requirement already satisfied: numpy>=1.23 in /usr/local/lib/python3.11/dist-packages (from matplotlib) (2.0.2)\n",
            "Requirement already satisfied: packaging>=20.0 in /usr/local/lib/python3.11/dist-packages (from matplotlib) (24.2)\n",
            "Requirement already satisfied: pillow>=8 in /usr/local/lib/python3.11/dist-packages (from matplotlib) (11.1.0)\n",
            "Requirement already satisfied: pyparsing>=2.3.1 in /usr/local/lib/python3.11/dist-packages (from matplotlib) (3.2.3)\n",
            "Requirement already satisfied: python-dateutil>=2.7 in /usr/local/lib/python3.11/dist-packages (from matplotlib) (2.8.2)\n",
            "Requirement already satisfied: six>=1.5 in /usr/local/lib/python3.11/dist-packages (from python-dateutil>=2.7->matplotlib) (1.17.0)\n",
            "Collecting datetime\n",
            "  Downloading DateTime-5.5-py3-none-any.whl.metadata (33 kB)\n",
            "Collecting zope.interface (from datetime)\n",
            "  Downloading zope.interface-7.2-cp311-cp311-manylinux_2_5_x86_64.manylinux1_x86_64.manylinux_2_17_x86_64.manylinux2014_x86_64.whl.metadata (44 kB)\n",
            "\u001b[2K     \u001b[90m━━━━━━━━━━━━━━━━━━━━━━━━━━━━━━━━━━━━━━━━\u001b[0m \u001b[32m44.4/44.4 kB\u001b[0m \u001b[31m1.7 MB/s\u001b[0m eta \u001b[36m0:00:00\u001b[0m\n",
            "\u001b[?25hRequirement already satisfied: pytz in /usr/local/lib/python3.11/dist-packages (from datetime) (2025.2)\n",
            "Requirement already satisfied: setuptools in /usr/local/lib/python3.11/dist-packages (from zope.interface->datetime) (75.2.0)\n",
            "Downloading DateTime-5.5-py3-none-any.whl (52 kB)\n",
            "\u001b[2K   \u001b[90m━━━━━━━━━━━━━━━━━━━━━━━━━━━━━━━━━━━━━━━━\u001b[0m \u001b[32m52.6/52.6 kB\u001b[0m \u001b[31m2.9 MB/s\u001b[0m eta \u001b[36m0:00:00\u001b[0m\n",
            "\u001b[?25hDownloading zope.interface-7.2-cp311-cp311-manylinux_2_5_x86_64.manylinux1_x86_64.manylinux_2_17_x86_64.manylinux2014_x86_64.whl (259 kB)\n",
            "\u001b[2K   \u001b[90m━━━━━━━━━━━━━━━━━━━━━━━━━━━━━━━━━━━━━━━━\u001b[0m \u001b[32m259.8/259.8 kB\u001b[0m \u001b[31m12.0 MB/s\u001b[0m eta \u001b[36m0:00:00\u001b[0m\n",
            "\u001b[?25hTraceback (most recent call last):\n",
            "  File \"/usr/local/lib/python3.11/dist-packages/pip/_internal/cli/base_command.py\", line 179, in exc_logging_wrapper\n",
            "^C\n",
            "^C\n"
          ]
        }
      ],
      "source": [
        "!pip install pandas\n",
        "!pip install numpy\n",
        "!pip install matplotlib\n",
        "!pip install datetime\n",
        "!pip install datetime"
      ]
    },
    {
      "cell_type": "code",
      "execution_count": null,
      "metadata": {
        "colab": {
          "base_uri": "https://localhost:8080/"
        },
        "id": "rbfraIKU8i1W",
        "outputId": "26b18322-907b-403d-a122-81aef1fc61f8"
      },
      "outputs": [
        {
          "output_type": "stream",
          "name": "stdout",
          "text": [
            "Number of columns before dropping: 96\n",
            "Number of columns after dropping: 46\n",
            "Splitting host verifications\n"
          ]
        },
        {
          "output_type": "stream",
          "name": "stderr",
          "text": [
            "<ipython-input-1-68e937a94cf9>:103: SettingWithCopyWarning: \n",
            "A value is trying to be set on a copy of a slice from a DataFrame.\n",
            "Try using .loc[row_indexer,col_indexer] = value instead\n",
            "\n",
            "See the caveats in the documentation: https://pandas.pydata.org/pandas-docs/stable/user_guide/indexing.html#returning-a-view-versus-a-copy\n",
            "  data['bathrooms'] = data['bathrooms'].apply(clean_number_removal)\n",
            "<ipython-input-1-68e937a94cf9>:104: SettingWithCopyWarning: \n",
            "A value is trying to be set on a copy of a slice from a DataFrame.\n",
            "Try using .loc[row_indexer,col_indexer] = value instead\n",
            "\n",
            "See the caveats in the documentation: https://pandas.pydata.org/pandas-docs/stable/user_guide/indexing.html#returning-a-view-versus-a-copy\n",
            "  data['bedrooms'] = data['bedrooms'].apply(clean_number_removal)\n",
            "<ipython-input-1-68e937a94cf9>:105: SettingWithCopyWarning: \n",
            "A value is trying to be set on a copy of a slice from a DataFrame.\n",
            "Try using .loc[row_indexer,col_indexer] = value instead\n",
            "\n",
            "See the caveats in the documentation: https://pandas.pydata.org/pandas-docs/stable/user_guide/indexing.html#returning-a-view-versus-a-copy\n",
            "  data['beds'] = data['beds'].apply(clean_number_removal)\n",
            "<ipython-input-1-68e937a94cf9>:130: SettingWithCopyWarning: \n",
            "A value is trying to be set on a copy of a slice from a DataFrame.\n",
            "Try using .loc[row_indexer,col_indexer] = value instead\n",
            "\n",
            "See the caveats in the documentation: https://pandas.pydata.org/pandas-docs/stable/user_guide/indexing.html#returning-a-view-versus-a-copy\n",
            "  data[col_name] = data[col_name].fillna(0)\n"
          ]
        },
        {
          "output_type": "stream",
          "name": "stdout",
          "text": [
            "Data cleaning complete. Cleaned data saved to 'Data/data_cleaned.csv'.\n"
          ]
        }
      ],
      "source": [
        "# Importing the required libraries and methods\n",
        "import matplotlib.pyplot as plt\n",
        "import numpy as np\n",
        "import pandas as pd\n",
        "import math\n",
        "import datetime as dt\n",
        "\n",
        "# Importing the dataset\n",
        "filename = 'Data/listings.csv'\n",
        "reviews_filename = 'Data/reviews_cleaned.csv'\n",
        "data = pd.read_csv(filename, low_memory=False)\n",
        "reviews = pd.read_csv(reviews_filename, names=['listing_id', 'comments'])\n",
        "\n",
        "# Taking out the unwanted columns\n",
        "print(\"Number of columns before dropping:\", len(data.columns))\n",
        "\n",
        "# List of columns to drop\n",
        "columns_to_drop = [\n",
        "    'host_name', 'notes', 'host_about', 'calendar_updated', 'host_acceptance_rate',\n",
        "    'description', 'thumbnail_url', 'experiences_offered', 'listing_url', 'name',\n",
        "    'summary', 'space', 'scrape_id', 'last_scraped', 'neighborhood_overview',\n",
        "    'transit', 'access', 'interaction', 'house_rules', 'medium_url', 'picture_url',\n",
        "    'xl_picture_url', 'host_url', 'host_thumbnail_url', 'host_picture_url',\n",
        "    'host_acceptance_rate', 'smart_location', 'license', 'jurisdiction_names',\n",
        "    'street', 'neighbourhood', 'country', 'country_code', 'host_location',\n",
        "    'host_neighbourhood', 'market', 'is_location_exact', 'square_feet',\n",
        "    'weekly_price', 'monthly_price', 'availability_30', 'availability_60',\n",
        "    'availability_90', 'availability_365', 'calendar_last_scraped', 'first_review',\n",
        "    'last_review', 'requires_license', 'calculated_host_listings_count',\n",
        "    'host_listings_count', 'zipcode'\n",
        "]\n",
        "\n",
        "# Drop columns that exist in the dataset\n",
        "columns_to_drop = [col for col in columns_to_drop if col in data.columns]\n",
        "data = data.drop(columns=columns_to_drop)\n",
        "\n",
        "print(\"Number of columns after dropping:\", len(data.columns))\n",
        "\n",
        "# Handle host verifications\n",
        "print(\"Splitting host verifications\")\n",
        "host_verification_set = set()\n",
        "\n",
        "def collect_host_verifications(entry):\n",
        "    if not isinstance(entry, str):  # Handle non-string entries (e.g., NaN)\n",
        "        return\n",
        "    entry_list = entry.replace(\"[\", \"\").replace(\"]\", \"\").replace(\"'\", \"\").replace('\"', \"\").replace(\" \", \"\").split(',')\n",
        "    for verification in entry_list:\n",
        "        if verification and verification != 'None':  # Skip empty strings and 'None'\n",
        "            host_verification_set.add(verification + \"_verification\")\n",
        "\n",
        "# Replace NaN values in 'host_verifications' with an empty string\n",
        "data['host_verifications'] = data['host_verifications'].fillna('')\n",
        "\n",
        "# Apply the function to collect host verifications\n",
        "data['host_verifications'].apply(collect_host_verifications)\n",
        "\n",
        "# Add new columns for each host verification\n",
        "for v in host_verification_set:\n",
        "    data[v] = data['host_verifications'].apply(lambda x: 1 if v in x else 0)\n",
        "\n",
        "# Drop the original 'host_verifications' column\n",
        "data = data.drop(columns=['host_verifications'])\n",
        "\n",
        "# Clean response rate\n",
        "def clean_response_rate(entry):\n",
        "    if isinstance(entry, str):\n",
        "        return entry.replace('%', '')\n",
        "    return 0\n",
        "\n",
        "data['host_response_rate'] = data['host_response_rate'].apply(clean_response_rate)\n",
        "\n",
        "# Clean boolean columns\n",
        "def clean_superhost(entry):\n",
        "    return 1 if entry == 't' else 0\n",
        "\n",
        "boolean_columns = [\n",
        "    'host_is_superhost', 'host_has_profile_pic', 'host_identity_verified',\n",
        "    'has_availability', 'instant_bookable', 'is_business_travel_ready',\n",
        "    'require_guest_profile_picture', 'require_guest_phone_verification'\n",
        "]\n",
        "\n",
        "for col in boolean_columns:\n",
        "    data[col] = data[col].apply(clean_superhost)\n",
        "\n",
        "# Clean price and numeric columns\n",
        "def clean_price(entry):\n",
        "    if pd.isna(entry) or entry == '':\n",
        "        return -55\n",
        "    if isinstance(entry, str):\n",
        "        entry = entry.replace('$', '').replace(',', '')\n",
        "    try:\n",
        "        price = float(entry)\n",
        "        return np.log(price) if price > 0 else -55\n",
        "    except (ValueError, TypeError):\n",
        "        return -55\n",
        "\n",
        "data['price'] = data['price'].apply(clean_price)\n",
        "data = data[data['price'] != -55]\n",
        "\n",
        "def clean_number_removal(entry):\n",
        "    return 0 if pd.isna(entry) else entry\n",
        "\n",
        "data['bathrooms'] = data['bathrooms'].apply(clean_number_removal)\n",
        "data['bedrooms'] = data['bedrooms'].apply(clean_number_removal)\n",
        "data['beds'] = data['beds'].apply(clean_number_removal)\n",
        "data = data[data['bathrooms'] != -55]\n",
        "data = data[data['bedrooms'] != -55]\n",
        "data = data[data['beds'] != -55]\n",
        "\n",
        "# Clean reviews per month\n",
        "data['reviews_per_month'] = data['reviews_per_month'].fillna(0)\n",
        "\n",
        "# Clean host since\n",
        "def clean_host_since(entry):\n",
        "    if pd.isna(entry) or entry == '':\n",
        "        return -55\n",
        "    try:\n",
        "        return (dt.datetime(2018, 11, 10) - pd.to_datetime(entry)).days\n",
        "    except (ValueError, TypeError):\n",
        "        return -55\n",
        "\n",
        "data['host_since'] = data['host_since'].apply(clean_host_since)\n",
        "data = data[data['host_since'] != -55]\n",
        "\n",
        "# Clean review scores\n",
        "for col_name in ['review_scores_rating', 'review_scores_accuracy',\n",
        "                 'review_scores_cleanliness', 'review_scores_checkin',\n",
        "                 'review_scores_communication', 'review_scores_location',\n",
        "                 'review_scores_value']:\n",
        "    data[col_name] = data[col_name].fillna(0)\n",
        "\n",
        "# Join with reviews data\n",
        "data = data.set_index('id').join(reviews.set_index('listing_id'))\n",
        "\n",
        "# Clean comments\n",
        "data['comments'] = data['comments'].fillna('')\n",
        "\n",
        "# Save the cleaned data to a CSV file\n",
        "data.to_csv('Data/data_cleaned.csv')\n",
        "print(\"Data cleaning complete. Cleaned data saved to 'Data/data_cleaned.csv'.\")"
      ]
    },
    {
      "cell_type": "code",
      "execution_count": null,
      "metadata": {
        "colab": {
          "base_uri": "https://localhost:8080/"
        },
        "id": "LhPCxYJJCOOl",
        "outputId": "257871d6-b03d-4b68-84d0-baf17c33286e"
      },
      "outputs": [
        {
          "output_type": "stream",
          "name": "stderr",
          "text": [
            "/usr/local/lib/python3.11/dist-packages/sklearn/utils/_array_api.py:776: RuntimeWarning: All-NaN slice encountered\n",
            "  return xp.asarray(numpy.nanmin(X, axis=axis))\n",
            "/usr/local/lib/python3.11/dist-packages/sklearn/utils/_array_api.py:793: RuntimeWarning: All-NaN slice encountered\n",
            "  return xp.asarray(numpy.nanmax(X, axis=axis))\n",
            "/usr/local/lib/python3.11/dist-packages/sklearn/utils/_array_api.py:776: RuntimeWarning: All-NaN slice encountered\n",
            "  return xp.asarray(numpy.nanmin(X, axis=axis))\n",
            "/usr/local/lib/python3.11/dist-packages/sklearn/utils/_array_api.py:793: RuntimeWarning: All-NaN slice encountered\n",
            "  return xp.asarray(numpy.nanmax(X, axis=axis))\n",
            "/usr/local/lib/python3.11/dist-packages/sklearn/utils/_array_api.py:776: RuntimeWarning: All-NaN slice encountered\n",
            "  return xp.asarray(numpy.nanmin(X, axis=axis))\n",
            "/usr/local/lib/python3.11/dist-packages/sklearn/utils/_array_api.py:793: RuntimeWarning: All-NaN slice encountered\n",
            "  return xp.asarray(numpy.nanmax(X, axis=axis))\n"
          ]
        }
      ],
      "source": [
        "import matplotlib.pyplot as plt\n",
        "import numpy as np\n",
        "import pandas as pd\n",
        "import random\n",
        "from sklearn.model_selection import train_test_split\n",
        "from sklearn import preprocessing\n",
        "\n",
        "random.seed(13)\n",
        "\n",
        "\n",
        "def normalize(X_train, X_val, X_test):\n",
        "    # Create a copy of the input DataFrames to avoid modifying the originals\n",
        "    X_train_normalized = X_train.copy()\n",
        "    X_val_normalized = X_val.copy()\n",
        "    X_test_normalized = X_test.copy()\n",
        "\n",
        "    # Select only numerical features for normalization\n",
        "    numerical_features = X_train_normalized.select_dtypes(include=np.number).columns.tolist()\n",
        "\n",
        "    # Apply MinMaxScaler to numerical features only\n",
        "    for df in [X_train_normalized, X_val_normalized, X_test_normalized]:\n",
        "        min_max_scaler = preprocessing.MinMaxScaler()\n",
        "        df[numerical_features] = min_max_scaler.fit_transform(df[numerical_features])\n",
        "\n",
        "    return X_train_normalized, X_val_normalized, X_test_normalized\n",
        "\n",
        "\n",
        "\n",
        "def split(dataset, val_frac=0.10, test_frac=0.10):\n",
        "    X = dataset.loc[:, dataset.columns != 'price']\n",
        "    X = X.loc[:, X.columns != 'id']\n",
        "    X = X.loc[:, X.columns != 'host_id']\n",
        "    X = X.loc[:, X.columns != 'Unnamed: 0']\n",
        "\n",
        "    y = dataset['price']\n",
        "\n",
        "    X_train, X_test, y_train, y_test = train_test_split(X, y, test_size=(val_frac+test_frac), random_state=1)\n",
        "    X_test, X_val, y_test, y_val = train_test_split(X_test, y_test, test_size=val_frac/(val_frac+test_frac), random_state=1)\n",
        "\n",
        "    return X_train, y_train, X_val, y_val, X_test, y_test\n",
        "\n",
        "\n",
        "if __name__ == \"__main__\":\n",
        "\n",
        "    dataset = pd.read_csv('Data/data_cleaned.csv')\n",
        "\n",
        "    X_train, y_train, X_val, y_val, X_test, y_test = split(dataset)\n",
        "\n",
        "    X_train, X_val, X_test = normalize(X_train, X_val, X_test)\n",
        "    X_train.to_csv('Data/data_cleaned_train_comments_X.csv', header=True, index=False)\n",
        "    y_train.to_csv('Data/data_cleaned_train_y.csv', header=True, index=False)\n",
        "\n",
        "    X_val.to_csv('Data/data_cleaned_val_comments_X.csv', header=True, index=False)\n",
        "    y_val.to_csv('Data/data_cleaned_val_y.csv', header=True, index=False)\n",
        "\n",
        "    X_test.to_csv('Data/data_cleaned_test_comments_X.csv', header=True, index=False)\n",
        "    y_test.to_csv('Data/data_cleaned_test_y.csv', header=True, index=False)\n",
        "\n",
        "    pass"
      ]
    },
    {
      "cell_type": "code",
      "source": [
        "from textblob import TextBlob\n",
        "from textblob.sentiments import NaiveBayesAnalyzer\n",
        "import matplotlib.pyplot as plt\n",
        "import numpy as np\n",
        "import pandas as pd\n",
        "import math\n",
        "import datetime as dt\n",
        "# Importing the dataset\n",
        "filename = 'Data/reviews_original.csv'\n",
        "data = pd.read_csv(filename)\n",
        "#join on id and listing id\n",
        "\n",
        "data = pd.DataFrame.drop(data, columns=[\n",
        "    'id',\n",
        "    'date',\n",
        "    'reviewer_id',\n",
        "    'reviewer_name'\n",
        "\n",
        "\n",
        "])\n",
        "def calculate_sentiment(entry):\n",
        "    if (type(entry) != str and math.isnan(entry)):\n",
        "        return -55\n",
        "    opinion = TextBlob(entry)\n",
        "    return opinion.sentiment.polarity\n",
        "\n",
        "\n",
        "data['comments'] = data['comments'].apply(calculate_sentiment)\n",
        "data = data[data['comments'] != -55]\n",
        "data = data.groupby('listing_id')['comments']. mean()\n",
        "data.to_csv('Data/reviews_cleaned.csv')"
      ],
      "metadata": {
        "id": "cQm7n7Lgw91_",
        "colab": {
          "base_uri": "https://localhost:8080/",
          "height": 391
        },
        "outputId": "9f02bbe6-0ba6-49bd-9946-a8173324ea93"
      },
      "execution_count": null,
      "outputs": [
        {
          "output_type": "error",
          "ename": "KeyboardInterrupt",
          "evalue": "",
          "traceback": [
            "\u001b[0;31m---------------------------------------------------------------------------\u001b[0m",
            "\u001b[0;31mKeyboardInterrupt\u001b[0m                         Traceback (most recent call last)",
            "\u001b[0;32m<ipython-input-16-d69967de6737>\u001b[0m in \u001b[0;36m<cell line: 0>\u001b[0;34m()\u001b[0m\n\u001b[1;32m     26\u001b[0m \u001b[0;34m\u001b[0m\u001b[0m\n\u001b[1;32m     27\u001b[0m \u001b[0;34m\u001b[0m\u001b[0m\n\u001b[0;32m---> 28\u001b[0;31m \u001b[0mdata\u001b[0m\u001b[0;34m[\u001b[0m\u001b[0;34m'comments'\u001b[0m\u001b[0;34m]\u001b[0m \u001b[0;34m=\u001b[0m \u001b[0mdata\u001b[0m\u001b[0;34m[\u001b[0m\u001b[0;34m'comments'\u001b[0m\u001b[0;34m]\u001b[0m\u001b[0;34m.\u001b[0m\u001b[0mapply\u001b[0m\u001b[0;34m(\u001b[0m\u001b[0mcalculate_sentiment\u001b[0m\u001b[0;34m)\u001b[0m\u001b[0;34m\u001b[0m\u001b[0;34m\u001b[0m\u001b[0m\n\u001b[0m\u001b[1;32m     29\u001b[0m \u001b[0mdata\u001b[0m \u001b[0;34m=\u001b[0m \u001b[0mdata\u001b[0m\u001b[0;34m[\u001b[0m\u001b[0mdata\u001b[0m\u001b[0;34m[\u001b[0m\u001b[0;34m'comments'\u001b[0m\u001b[0;34m]\u001b[0m \u001b[0;34m!=\u001b[0m \u001b[0;34m-\u001b[0m\u001b[0;36m55\u001b[0m\u001b[0;34m]\u001b[0m\u001b[0;34m\u001b[0m\u001b[0;34m\u001b[0m\u001b[0m\n\u001b[1;32m     30\u001b[0m \u001b[0mdata\u001b[0m \u001b[0;34m=\u001b[0m \u001b[0mdata\u001b[0m\u001b[0;34m.\u001b[0m\u001b[0mgroupby\u001b[0m\u001b[0;34m(\u001b[0m\u001b[0;34m'listing_id'\u001b[0m\u001b[0;34m)\u001b[0m\u001b[0;34m[\u001b[0m\u001b[0;34m'comments'\u001b[0m\u001b[0;34m]\u001b[0m\u001b[0;34m.\u001b[0m \u001b[0mmean\u001b[0m\u001b[0;34m(\u001b[0m\u001b[0;34m)\u001b[0m\u001b[0;34m\u001b[0m\u001b[0;34m\u001b[0m\u001b[0m\n",
            "\u001b[0;32m/usr/local/lib/python3.11/dist-packages/pandas/core/series.py\u001b[0m in \u001b[0;36mapply\u001b[0;34m(self, func, convert_dtype, args, by_row, **kwargs)\u001b[0m\n\u001b[1;32m   4922\u001b[0m             \u001b[0margs\u001b[0m\u001b[0;34m=\u001b[0m\u001b[0margs\u001b[0m\u001b[0;34m,\u001b[0m\u001b[0;34m\u001b[0m\u001b[0;34m\u001b[0m\u001b[0m\n\u001b[1;32m   4923\u001b[0m             \u001b[0mkwargs\u001b[0m\u001b[0;34m=\u001b[0m\u001b[0mkwargs\u001b[0m\u001b[0;34m,\u001b[0m\u001b[0;34m\u001b[0m\u001b[0;34m\u001b[0m\u001b[0m\n\u001b[0;32m-> 4924\u001b[0;31m         ).apply()\n\u001b[0m\u001b[1;32m   4925\u001b[0m \u001b[0;34m\u001b[0m\u001b[0m\n\u001b[1;32m   4926\u001b[0m     def _reindex_indexer(\n",
            "\u001b[0;32m/usr/local/lib/python3.11/dist-packages/pandas/core/apply.py\u001b[0m in \u001b[0;36mapply\u001b[0;34m(self)\u001b[0m\n\u001b[1;32m   1425\u001b[0m \u001b[0;34m\u001b[0m\u001b[0m\n\u001b[1;32m   1426\u001b[0m         \u001b[0;31m# self.func is Callable\u001b[0m\u001b[0;34m\u001b[0m\u001b[0;34m\u001b[0m\u001b[0m\n\u001b[0;32m-> 1427\u001b[0;31m         \u001b[0;32mreturn\u001b[0m \u001b[0mself\u001b[0m\u001b[0;34m.\u001b[0m\u001b[0mapply_standard\u001b[0m\u001b[0;34m(\u001b[0m\u001b[0;34m)\u001b[0m\u001b[0;34m\u001b[0m\u001b[0;34m\u001b[0m\u001b[0m\n\u001b[0m\u001b[1;32m   1428\u001b[0m \u001b[0;34m\u001b[0m\u001b[0m\n\u001b[1;32m   1429\u001b[0m     \u001b[0;32mdef\u001b[0m \u001b[0magg\u001b[0m\u001b[0;34m(\u001b[0m\u001b[0mself\u001b[0m\u001b[0;34m)\u001b[0m\u001b[0;34m:\u001b[0m\u001b[0;34m\u001b[0m\u001b[0;34m\u001b[0m\u001b[0m\n",
            "\u001b[0;32m/usr/local/lib/python3.11/dist-packages/pandas/core/apply.py\u001b[0m in \u001b[0;36mapply_standard\u001b[0;34m(self)\u001b[0m\n\u001b[1;32m   1505\u001b[0m         \u001b[0;31m#  Categorical (GH51645).\u001b[0m\u001b[0;34m\u001b[0m\u001b[0;34m\u001b[0m\u001b[0m\n\u001b[1;32m   1506\u001b[0m         \u001b[0maction\u001b[0m \u001b[0;34m=\u001b[0m \u001b[0;34m\"ignore\"\u001b[0m \u001b[0;32mif\u001b[0m \u001b[0misinstance\u001b[0m\u001b[0;34m(\u001b[0m\u001b[0mobj\u001b[0m\u001b[0;34m.\u001b[0m\u001b[0mdtype\u001b[0m\u001b[0;34m,\u001b[0m \u001b[0mCategoricalDtype\u001b[0m\u001b[0;34m)\u001b[0m \u001b[0;32melse\u001b[0m \u001b[0;32mNone\u001b[0m\u001b[0;34m\u001b[0m\u001b[0;34m\u001b[0m\u001b[0m\n\u001b[0;32m-> 1507\u001b[0;31m         mapped = obj._map_values(\n\u001b[0m\u001b[1;32m   1508\u001b[0m             \u001b[0mmapper\u001b[0m\u001b[0;34m=\u001b[0m\u001b[0mcurried\u001b[0m\u001b[0;34m,\u001b[0m \u001b[0mna_action\u001b[0m\u001b[0;34m=\u001b[0m\u001b[0maction\u001b[0m\u001b[0;34m,\u001b[0m \u001b[0mconvert\u001b[0m\u001b[0;34m=\u001b[0m\u001b[0mself\u001b[0m\u001b[0;34m.\u001b[0m\u001b[0mconvert_dtype\u001b[0m\u001b[0;34m\u001b[0m\u001b[0;34m\u001b[0m\u001b[0m\n\u001b[1;32m   1509\u001b[0m         )\n",
            "\u001b[0;32m/usr/local/lib/python3.11/dist-packages/pandas/core/base.py\u001b[0m in \u001b[0;36m_map_values\u001b[0;34m(self, mapper, na_action, convert)\u001b[0m\n\u001b[1;32m    919\u001b[0m             \u001b[0;32mreturn\u001b[0m \u001b[0marr\u001b[0m\u001b[0;34m.\u001b[0m\u001b[0mmap\u001b[0m\u001b[0;34m(\u001b[0m\u001b[0mmapper\u001b[0m\u001b[0;34m,\u001b[0m \u001b[0mna_action\u001b[0m\u001b[0;34m=\u001b[0m\u001b[0mna_action\u001b[0m\u001b[0;34m)\u001b[0m\u001b[0;34m\u001b[0m\u001b[0;34m\u001b[0m\u001b[0m\n\u001b[1;32m    920\u001b[0m \u001b[0;34m\u001b[0m\u001b[0m\n\u001b[0;32m--> 921\u001b[0;31m         \u001b[0;32mreturn\u001b[0m \u001b[0malgorithms\u001b[0m\u001b[0;34m.\u001b[0m\u001b[0mmap_array\u001b[0m\u001b[0;34m(\u001b[0m\u001b[0marr\u001b[0m\u001b[0;34m,\u001b[0m \u001b[0mmapper\u001b[0m\u001b[0;34m,\u001b[0m \u001b[0mna_action\u001b[0m\u001b[0;34m=\u001b[0m\u001b[0mna_action\u001b[0m\u001b[0;34m,\u001b[0m \u001b[0mconvert\u001b[0m\u001b[0;34m=\u001b[0m\u001b[0mconvert\u001b[0m\u001b[0;34m)\u001b[0m\u001b[0;34m\u001b[0m\u001b[0;34m\u001b[0m\u001b[0m\n\u001b[0m\u001b[1;32m    922\u001b[0m \u001b[0;34m\u001b[0m\u001b[0m\n\u001b[1;32m    923\u001b[0m     \u001b[0;34m@\u001b[0m\u001b[0mfinal\u001b[0m\u001b[0;34m\u001b[0m\u001b[0;34m\u001b[0m\u001b[0m\n",
            "\u001b[0;32m/usr/local/lib/python3.11/dist-packages/pandas/core/algorithms.py\u001b[0m in \u001b[0;36mmap_array\u001b[0;34m(arr, mapper, na_action, convert)\u001b[0m\n\u001b[1;32m   1741\u001b[0m     \u001b[0mvalues\u001b[0m \u001b[0;34m=\u001b[0m \u001b[0marr\u001b[0m\u001b[0;34m.\u001b[0m\u001b[0mastype\u001b[0m\u001b[0;34m(\u001b[0m\u001b[0mobject\u001b[0m\u001b[0;34m,\u001b[0m \u001b[0mcopy\u001b[0m\u001b[0;34m=\u001b[0m\u001b[0;32mFalse\u001b[0m\u001b[0;34m)\u001b[0m\u001b[0;34m\u001b[0m\u001b[0;34m\u001b[0m\u001b[0m\n\u001b[1;32m   1742\u001b[0m     \u001b[0;32mif\u001b[0m \u001b[0mna_action\u001b[0m \u001b[0;32mis\u001b[0m \u001b[0;32mNone\u001b[0m\u001b[0;34m:\u001b[0m\u001b[0;34m\u001b[0m\u001b[0;34m\u001b[0m\u001b[0m\n\u001b[0;32m-> 1743\u001b[0;31m         \u001b[0;32mreturn\u001b[0m \u001b[0mlib\u001b[0m\u001b[0;34m.\u001b[0m\u001b[0mmap_infer\u001b[0m\u001b[0;34m(\u001b[0m\u001b[0mvalues\u001b[0m\u001b[0;34m,\u001b[0m \u001b[0mmapper\u001b[0m\u001b[0;34m,\u001b[0m \u001b[0mconvert\u001b[0m\u001b[0;34m=\u001b[0m\u001b[0mconvert\u001b[0m\u001b[0;34m)\u001b[0m\u001b[0;34m\u001b[0m\u001b[0;34m\u001b[0m\u001b[0m\n\u001b[0m\u001b[1;32m   1744\u001b[0m     \u001b[0;32melse\u001b[0m\u001b[0;34m:\u001b[0m\u001b[0;34m\u001b[0m\u001b[0;34m\u001b[0m\u001b[0m\n\u001b[1;32m   1745\u001b[0m         return lib.map_infer_mask(\n",
            "\u001b[0;32mlib.pyx\u001b[0m in \u001b[0;36mpandas._libs.lib.map_infer\u001b[0;34m()\u001b[0m\n",
            "\u001b[0;32m<ipython-input-16-d69967de6737>\u001b[0m in \u001b[0;36mcalculate_sentiment\u001b[0;34m(entry)\u001b[0m\n\u001b[1;32m     23\u001b[0m         \u001b[0;32mreturn\u001b[0m \u001b[0;34m-\u001b[0m\u001b[0;36m55\u001b[0m\u001b[0;34m\u001b[0m\u001b[0;34m\u001b[0m\u001b[0m\n\u001b[1;32m     24\u001b[0m     \u001b[0mopinion\u001b[0m \u001b[0;34m=\u001b[0m \u001b[0mTextBlob\u001b[0m\u001b[0;34m(\u001b[0m\u001b[0mentry\u001b[0m\u001b[0;34m)\u001b[0m\u001b[0;34m\u001b[0m\u001b[0;34m\u001b[0m\u001b[0m\n\u001b[0;32m---> 25\u001b[0;31m     \u001b[0;32mreturn\u001b[0m \u001b[0mopinion\u001b[0m\u001b[0;34m.\u001b[0m\u001b[0msentiment\u001b[0m\u001b[0;34m.\u001b[0m\u001b[0mpolarity\u001b[0m\u001b[0;34m\u001b[0m\u001b[0;34m\u001b[0m\u001b[0m\n\u001b[0m\u001b[1;32m     26\u001b[0m \u001b[0;34m\u001b[0m\u001b[0m\n\u001b[1;32m     27\u001b[0m \u001b[0;34m\u001b[0m\u001b[0m\n",
            "\u001b[0;32m/usr/local/lib/python3.11/dist-packages/textblob/decorators.py\u001b[0m in \u001b[0;36m__get__\u001b[0;34m(self, obj, cls)\u001b[0m\n\u001b[1;32m     21\u001b[0m         \u001b[0;32mif\u001b[0m \u001b[0mobj\u001b[0m \u001b[0;32mis\u001b[0m \u001b[0;32mNone\u001b[0m\u001b[0;34m:\u001b[0m\u001b[0;34m\u001b[0m\u001b[0;34m\u001b[0m\u001b[0m\n\u001b[1;32m     22\u001b[0m             \u001b[0;32mreturn\u001b[0m \u001b[0mself\u001b[0m\u001b[0;34m\u001b[0m\u001b[0;34m\u001b[0m\u001b[0m\n\u001b[0;32m---> 23\u001b[0;31m         \u001b[0mvalue\u001b[0m \u001b[0;34m=\u001b[0m \u001b[0mobj\u001b[0m\u001b[0;34m.\u001b[0m\u001b[0m__dict__\u001b[0m\u001b[0;34m[\u001b[0m\u001b[0mself\u001b[0m\u001b[0;34m.\u001b[0m\u001b[0mfunc\u001b[0m\u001b[0;34m.\u001b[0m\u001b[0m__name__\u001b[0m\u001b[0;34m]\u001b[0m \u001b[0;34m=\u001b[0m \u001b[0mself\u001b[0m\u001b[0;34m.\u001b[0m\u001b[0mfunc\u001b[0m\u001b[0;34m(\u001b[0m\u001b[0mobj\u001b[0m\u001b[0;34m)\u001b[0m\u001b[0;34m\u001b[0m\u001b[0;34m\u001b[0m\u001b[0m\n\u001b[0m\u001b[1;32m     24\u001b[0m         \u001b[0;32mreturn\u001b[0m \u001b[0mvalue\u001b[0m\u001b[0;34m\u001b[0m\u001b[0;34m\u001b[0m\u001b[0m\n\u001b[1;32m     25\u001b[0m \u001b[0;34m\u001b[0m\u001b[0m\n",
            "\u001b[0;32m/usr/local/lib/python3.11/dist-packages/textblob/blob.py\u001b[0m in \u001b[0;36msentiment\u001b[0;34m(self)\u001b[0m\n\u001b[1;32m    437\u001b[0m         \u001b[0;34m:\u001b[0m\u001b[0mrtype\u001b[0m\u001b[0;34m:\u001b[0m \u001b[0mnamedtuple\u001b[0m \u001b[0mof\u001b[0m \u001b[0mthe\u001b[0m \u001b[0mform\u001b[0m\u001b[0;31m \u001b[0m\u001b[0;31m`\u001b[0m\u001b[0;31m`\u001b[0m\u001b[0mSentiment\u001b[0m\u001b[0;34m(\u001b[0m\u001b[0mpolarity\u001b[0m\u001b[0;34m,\u001b[0m \u001b[0msubjectivity\u001b[0m\u001b[0;34m)\u001b[0m\u001b[0;31m`\u001b[0m\u001b[0;31m`\u001b[0m\u001b[0;34m\u001b[0m\u001b[0;34m\u001b[0m\u001b[0m\n\u001b[1;32m    438\u001b[0m         \"\"\"\n\u001b[0;32m--> 439\u001b[0;31m         \u001b[0;32mreturn\u001b[0m \u001b[0mself\u001b[0m\u001b[0;34m.\u001b[0m\u001b[0manalyzer\u001b[0m\u001b[0;34m.\u001b[0m\u001b[0manalyze\u001b[0m\u001b[0;34m(\u001b[0m\u001b[0mself\u001b[0m\u001b[0;34m.\u001b[0m\u001b[0mraw\u001b[0m\u001b[0;34m)\u001b[0m\u001b[0;34m\u001b[0m\u001b[0;34m\u001b[0m\u001b[0m\n\u001b[0m\u001b[1;32m    440\u001b[0m \u001b[0;34m\u001b[0m\u001b[0m\n\u001b[1;32m    441\u001b[0m     \u001b[0;34m@\u001b[0m\u001b[0mcached_property\u001b[0m\u001b[0;34m\u001b[0m\u001b[0;34m\u001b[0m\u001b[0m\n",
            "\u001b[0;32m/usr/local/lib/python3.11/dist-packages/textblob/en/sentiments.py\u001b[0m in \u001b[0;36manalyze\u001b[0;34m(self, text, keep_assessments)\u001b[0m\n\u001b[1;32m     43\u001b[0m         \u001b[0;32melse\u001b[0m\u001b[0;34m:\u001b[0m\u001b[0;34m\u001b[0m\u001b[0;34m\u001b[0m\u001b[0m\n\u001b[1;32m     44\u001b[0m             \u001b[0mSentiment\u001b[0m \u001b[0;34m=\u001b[0m \u001b[0mnamedtuple\u001b[0m\u001b[0;34m(\u001b[0m\u001b[0;34m\"Sentiment\"\u001b[0m\u001b[0;34m,\u001b[0m \u001b[0;34m[\u001b[0m\u001b[0;34m\"polarity\"\u001b[0m\u001b[0;34m,\u001b[0m \u001b[0;34m\"subjectivity\"\u001b[0m\u001b[0;34m]\u001b[0m\u001b[0;34m)\u001b[0m\u001b[0;34m\u001b[0m\u001b[0;34m\u001b[0m\u001b[0m\n\u001b[0;32m---> 45\u001b[0;31m             \u001b[0;32mreturn\u001b[0m \u001b[0mSentiment\u001b[0m\u001b[0;34m(\u001b[0m\u001b[0;34m*\u001b[0m\u001b[0mpattern_sentiment\u001b[0m\u001b[0;34m(\u001b[0m\u001b[0mtext\u001b[0m\u001b[0;34m)\u001b[0m\u001b[0;34m)\u001b[0m\u001b[0;34m\u001b[0m\u001b[0;34m\u001b[0m\u001b[0m\n\u001b[0m\u001b[1;32m     46\u001b[0m \u001b[0;34m\u001b[0m\u001b[0m\n\u001b[1;32m     47\u001b[0m \u001b[0;34m\u001b[0m\u001b[0m\n",
            "\u001b[0;32m/usr/local/lib/python3.11/dist-packages/textblob/_text.py\u001b[0m in \u001b[0;36m__call__\u001b[0;34m(self, s, negation, **kwargs)\u001b[0m\n\u001b[1;32m    998\u001b[0m         \u001b[0;31m# Sentiment(\"a horrible movie\") => (-0.6, 1.0)\u001b[0m\u001b[0;34m\u001b[0m\u001b[0;34m\u001b[0m\u001b[0m\n\u001b[1;32m    999\u001b[0m         \u001b[0;32melif\u001b[0m \u001b[0misinstance\u001b[0m\u001b[0;34m(\u001b[0m\u001b[0ms\u001b[0m\u001b[0;34m,\u001b[0m \u001b[0mbasestring\u001b[0m\u001b[0;34m)\u001b[0m\u001b[0;34m:\u001b[0m\u001b[0;34m\u001b[0m\u001b[0;34m\u001b[0m\u001b[0m\n\u001b[0;32m-> 1000\u001b[0;31m             a = self.assessments(\n\u001b[0m\u001b[1;32m   1001\u001b[0m                 \u001b[0;34m(\u001b[0m\u001b[0;34m(\u001b[0m\u001b[0mw\u001b[0m\u001b[0;34m.\u001b[0m\u001b[0mlower\u001b[0m\u001b[0;34m(\u001b[0m\u001b[0;34m)\u001b[0m\u001b[0;34m,\u001b[0m \u001b[0;32mNone\u001b[0m\u001b[0;34m)\u001b[0m \u001b[0;32mfor\u001b[0m \u001b[0mw\u001b[0m \u001b[0;32min\u001b[0m \u001b[0;34m\" \"\u001b[0m\u001b[0;34m.\u001b[0m\u001b[0mjoin\u001b[0m\u001b[0;34m(\u001b[0m\u001b[0mself\u001b[0m\u001b[0;34m.\u001b[0m\u001b[0mtokenizer\u001b[0m\u001b[0;34m(\u001b[0m\u001b[0ms\u001b[0m\u001b[0;34m)\u001b[0m\u001b[0;34m)\u001b[0m\u001b[0;34m.\u001b[0m\u001b[0msplit\u001b[0m\u001b[0;34m(\u001b[0m\u001b[0;34m)\u001b[0m\u001b[0;34m)\u001b[0m\u001b[0;34m,\u001b[0m\u001b[0;34m\u001b[0m\u001b[0;34m\u001b[0m\u001b[0m\n\u001b[1;32m   1002\u001b[0m                 \u001b[0mnegation\u001b[0m\u001b[0;34m,\u001b[0m\u001b[0;34m\u001b[0m\u001b[0;34m\u001b[0m\u001b[0m\n",
            "\u001b[0;32m/usr/local/lib/python3.11/dist-packages/textblob/_text.py\u001b[0m in \u001b[0;36massessments\u001b[0;34m(self, words, negation)\u001b[0m\n\u001b[1;32m   1118\u001b[0m                 \u001b[0;31m# EMOTICONS: {(\"grin\", +1.0): set((\":-D\", \":D\"))}\u001b[0m\u001b[0;34m\u001b[0m\u001b[0;34m\u001b[0m\u001b[0m\n\u001b[1;32m   1119\u001b[0m                 if (\n\u001b[0;32m-> 1120\u001b[0;31m                     \u001b[0mw\u001b[0m\u001b[0;34m.\u001b[0m\u001b[0misalpha\u001b[0m\u001b[0;34m(\u001b[0m\u001b[0;34m)\u001b[0m \u001b[0;32mis\u001b[0m \u001b[0;32mFalse\u001b[0m \u001b[0;32mand\u001b[0m \u001b[0mlen\u001b[0m\u001b[0;34m(\u001b[0m\u001b[0mw\u001b[0m\u001b[0;34m)\u001b[0m \u001b[0;34m<=\u001b[0m \u001b[0;36m5\u001b[0m \u001b[0;32mand\u001b[0m \u001b[0mw\u001b[0m \u001b[0;32mnot\u001b[0m \u001b[0;32min\u001b[0m \u001b[0mPUNCTUATION\u001b[0m\u001b[0;34m\u001b[0m\u001b[0;34m\u001b[0m\u001b[0m\n\u001b[0m\u001b[1;32m   1121\u001b[0m                 ):  # speedup\n\u001b[1;32m   1122\u001b[0m                     \u001b[0;32mfor\u001b[0m \u001b[0;34m(\u001b[0m\u001b[0m_type\u001b[0m\u001b[0;34m,\u001b[0m \u001b[0mp\u001b[0m\u001b[0;34m)\u001b[0m\u001b[0;34m,\u001b[0m \u001b[0me\u001b[0m \u001b[0;32min\u001b[0m \u001b[0mEMOTICONS\u001b[0m\u001b[0;34m.\u001b[0m\u001b[0mitems\u001b[0m\u001b[0;34m(\u001b[0m\u001b[0;34m)\u001b[0m\u001b[0;34m:\u001b[0m\u001b[0;34m\u001b[0m\u001b[0;34m\u001b[0m\u001b[0m\n",
            "\u001b[0;31mKeyboardInterrupt\u001b[0m: "
          ]
        }
      ]
    },
    {
      "cell_type": "code",
      "source": [
        "from sklearn import feature_selection\n",
        "import numpy as np\n",
        "import pandas as pd\n",
        "import math\n",
        "\n",
        "# Load the data\n",
        "X_train = pd.read_csv('Data/data_cleaned_train_comments_X.csv')\n",
        "y_train = pd.read_csv('Data/data_cleaned_train_y.csv').squeeze()  # Convert to Series\n",
        "\n",
        "# Identify and remove non-numeric columns\n",
        "numeric_cols = X_train.select_dtypes(include=['int64', 'float64']).columns\n",
        "X_train_numeric = X_train[numeric_cols]\n",
        "\n",
        "# Check for remaining non-numeric values (just in case)\n",
        "X_train_numeric = X_train_numeric.apply(pd.to_numeric, errors='coerce').fillna(0)\n",
        "\n",
        "# Calculate F-values and p-values only on numeric columns\n",
        "F_vals, p_vals = feature_selection.f_regression(X_train_numeric, y_train)\n",
        "\n",
        "def clean_pvals(entry):\n",
        "    if math.isnan(entry):\n",
        "        return 1.0  # Conservative replacement for NaN p-values\n",
        "    return entry\n",
        "\n",
        "clean_pvals_vectorized = np.vectorize(clean_pvals)\n",
        "p_vals = clean_pvals_vectorized(p_vals)\n",
        "\n",
        "print(\"Shape of p-values array:\", p_vals.shape)\n",
        "\n",
        "THRESH = 1e-20\n",
        "significant_features = X_train_numeric.columns[p_vals < THRESH]\n",
        "\n",
        "print(\"Number of significant features:\", len(significant_features))\n",
        "print(\"Significant features:\", list(significant_features))\n",
        "\n",
        "# Save the selected feature names\n",
        "np.save('Data/selected_coefs_pvals.npy', significant_features.to_numpy())\n",
        "\n",
        "# Debug info\n",
        "print(\"\\nDebug Info:\")\n",
        "print(f\"Original features: {X_train.shape[1]}\")\n",
        "print(f\"Numeric features used: {X_train_numeric.shape[1]}\")\n",
        "print(f\"Non-numeric features dropped: {X_train.shape[1] - X_train_numeric.shape[1]}\")\n",
        "print(f\"Min p-value: {np.nanmin(p_vals)}\")\n",
        "print(f\"Max p-value: {np.nanmax(p_vals)}\")"
      ],
      "metadata": {
        "colab": {
          "base_uri": "https://localhost:8080/"
        },
        "id": "UwDLDZzI5WHL",
        "outputId": "f315dafd-33da-47af-fb43-a7ca25bdd762"
      },
      "execution_count": null,
      "outputs": [
        {
          "output_type": "stream",
          "name": "stdout",
          "text": [
            "Shape of p-values array: (50,)\n",
            "Number of significant features: 14\n",
            "Significant features: ['host_since', 'host_total_listings_count', 'latitude', 'longitude', 'accommodates', 'bathrooms', 'bedrooms', 'beds', 'guests_included', 'review_scores_accuracy', 'review_scores_checkin', 'review_scores_communication', 'review_scores_value', 'reviews_per_month']\n",
            "\n",
            "Debug Info:\n",
            "Original features: 63\n",
            "Numeric features used: 50\n",
            "Non-numeric features dropped: 13\n",
            "Min p-value: 0.0\n",
            "Max p-value: 1.0\n"
          ]
        }
      ]
    },
    {
      "cell_type": "code",
      "source": [
        "import matplotlib.pyplot as plt\n",
        "import numpy as np\n",
        "import pandas as pd\n",
        "from sklearn.linear_model import Lasso\n",
        "from sklearn.impute import SimpleImputer\n",
        "from sklearn.pipeline import make_pipeline\n",
        "\n",
        "# Alpha values to test\n",
        "ALPHAS = [0.00016, 0.00018, 0.00020, 0.00022, 0.00024, 0.00026, 0.00028, 0.00030, 0.00032]\n",
        "\n",
        "def load_and_prepare_data():\n",
        "    \"\"\"Load data and ensure proper formats\"\"\"\n",
        "    X_train = pd.read_csv('Data/data_cleaned_train_comments_X.csv')\n",
        "    y_train = pd.read_csv('Data/data_cleaned_train_y.csv').squeeze()\n",
        "    X_val = pd.read_csv('Data/data_cleaned_val_comments_X.csv')\n",
        "    y_val = pd.read_csv('Data/data_cleaned_val_y.csv').squeeze()\n",
        "\n",
        "    # Convert all columns to numeric, coercing errors\n",
        "    X_train = X_train.apply(pd.to_numeric, errors='coerce')\n",
        "    X_val = X_val.apply(pd.to_numeric, errors='coerce')\n",
        "\n",
        "    return X_train, y_train, X_val, y_val\n",
        "\n",
        "def run_lasso_regression(X_train, y_train, X_val, y_val):\n",
        "    \"\"\"Run Lasso regression with different alphas\"\"\"\n",
        "    score_best = -np.inf\n",
        "    best_model = None\n",
        "    best_alpha = None\n",
        "\n",
        "    for alpha in ALPHAS:\n",
        "        print(f'Testing alpha: {alpha:.5f}')\n",
        "\n",
        "        # Create pipeline with imputer and Lasso\n",
        "        model = make_pipeline(\n",
        "            SimpleImputer(strategy='mean'),  # Handle NaN values\n",
        "            Lasso(alpha=alpha, max_iter=100000, random_state=42)\n",
        "        )\n",
        "\n",
        "        model.fit(X_train, y_train)\n",
        "\n",
        "        train_score = model.score(X_train, y_train)\n",
        "        val_score = model.score(X_val, y_val)\n",
        "\n",
        "        print(f'\\tTraining R²: {train_score:.4f}')\n",
        "        print(f'\\tValidation R²: {val_score:.4f}')\n",
        "\n",
        "        if val_score > score_best:\n",
        "            score_best = val_score\n",
        "            best_alpha = alpha\n",
        "            best_model = model\n",
        "\n",
        "    return best_model, best_alpha\n",
        "\n",
        "def analyze_results(model, X_train, y_train, X_val, y_val):\n",
        "    \"\"\"Analyze and visualize results\"\"\"\n",
        "    # Get the Lasso estimator from the pipeline\n",
        "    lasso_model = model.named_steps['lasso']\n",
        "\n",
        "    # Save selected features\n",
        "    coefs = lasso_model.coef_ != 0\n",
        "    np.save('Data/selected_coefs.npy', coefs)\n",
        "    print(f'\\nNumber of selected features: {sum(coefs)}')\n",
        "\n",
        "    # Make predictions\n",
        "    y_pred_train = model.predict(X_train)\n",
        "    y_pred_val = model.predict(X_val)\n",
        "\n",
        "    # Plot results\n",
        "    plt.figure(figsize=(12, 5))\n",
        "\n",
        "    plt.subplot(1, 2, 1)\n",
        "    plt.scatter(y_pred_train, y_train, alpha=0.5)\n",
        "    plt.plot([y_train.min(), y_train.max()], [y_train.min(), y_train.max()], 'k--')\n",
        "    plt.xlabel('Predicted')\n",
        "    plt.ylabel('Actual')\n",
        "    plt.title('Training Set')\n",
        "\n",
        "    plt.subplot(1, 2, 2)\n",
        "    plt.scatter(y_pred_val, y_val, alpha=0.5)\n",
        "    plt.plot([y_val.min(), y_val.max()], [y_val.min(), y_val.max()], 'k--')\n",
        "    plt.xlabel('Predicted')\n",
        "    plt.ylabel('Actual')\n",
        "    plt.title('Validation Set')\n",
        "\n",
        "    plt.tight_layout()\n",
        "    plt.show()\n",
        "\n",
        "if __name__ == \"__main__\":\n",
        "    # Load and prepare data\n",
        "    X_train, y_train, X_val, y_val = load_and_prepare_data()\n",
        "\n",
        "    # Check for remaining NaN values\n",
        "    print(f\"NaN values in training set: {X_train.isna().sum().sum()}\")\n",
        "    print(f\"NaN values in validation set: {X_val.isna().sum().sum()}\")\n",
        "\n",
        "    # Run Lasso regression\n",
        "    best_model, best_alpha = run_lasso_regression(X_train, y_train, X_val, y_val)\n",
        "\n",
        "    print(f'\\nBest alpha: {best_alpha:.5f}')\n",
        "    print(f'Final Training R²: {best_model.score(X_train, y_train):.4f}')\n",
        "    print(f'Final Validation R²: {best_model.score(X_val, y_val):.4f}')\n",
        "\n",
        "    # Analyze and visualize results\n",
        "    analyze_results(best_model, X_train, y_train, X_val, y_val)"
      ],
      "metadata": {
        "colab": {
          "base_uri": "https://localhost:8080/",
          "height": 1000
        },
        "id": "4O3NQfqt-uYg",
        "outputId": "eccf6c3c-4d75-4e70-cce2-3e5b33b1c05c"
      },
      "execution_count": null,
      "outputs": [
        {
          "output_type": "stream",
          "name": "stdout",
          "text": [
            "NaN values in training set: 562072\n",
            "NaN values in validation set: 70266\n",
            "Testing alpha: 0.00016\n"
          ]
        },
        {
          "output_type": "stream",
          "name": "stderr",
          "text": [
            "/usr/local/lib/python3.11/dist-packages/sklearn/impute/_base.py:635: UserWarning: Skipping features without any observed values: ['host_response_time' 'neighbourhood_cleansed'\n",
            " 'neighbourhood_group_cleansed' 'city' 'state' 'property_type' 'room_type'\n",
            " 'bed_type' 'amenities' 'security_deposit' 'cleaning_fee' 'extra_people'\n",
            " 'cancellation_policy' 'comments']. At least one non-missing value is needed for imputation with strategy='mean'.\n",
            "  warnings.warn(\n",
            "/usr/local/lib/python3.11/dist-packages/sklearn/impute/_base.py:635: UserWarning: Skipping features without any observed values: ['host_response_time' 'neighbourhood_cleansed'\n",
            " 'neighbourhood_group_cleansed' 'city' 'state' 'property_type' 'room_type'\n",
            " 'bed_type' 'amenities' 'security_deposit' 'cleaning_fee' 'extra_people'\n",
            " 'cancellation_policy' 'comments']. At least one non-missing value is needed for imputation with strategy='mean'.\n",
            "  warnings.warn(\n",
            "/usr/local/lib/python3.11/dist-packages/sklearn/impute/_base.py:635: UserWarning: Skipping features without any observed values: ['host_response_time' 'neighbourhood_cleansed'\n",
            " 'neighbourhood_group_cleansed' 'city' 'state' 'property_type' 'room_type'\n",
            " 'bed_type' 'amenities' 'security_deposit' 'cleaning_fee' 'extra_people'\n",
            " 'cancellation_policy' 'comments']. At least one non-missing value is needed for imputation with strategy='mean'.\n",
            "  warnings.warn(\n",
            "/usr/local/lib/python3.11/dist-packages/sklearn/impute/_base.py:635: UserWarning: Skipping features without any observed values: ['host_response_time' 'neighbourhood_cleansed'\n",
            " 'neighbourhood_group_cleansed' 'city' 'state' 'property_type' 'room_type'\n",
            " 'bed_type' 'amenities' 'security_deposit' 'cleaning_fee' 'extra_people'\n",
            " 'cancellation_policy' 'comments']. At least one non-missing value is needed for imputation with strategy='mean'.\n",
            "  warnings.warn(\n"
          ]
        },
        {
          "output_type": "stream",
          "name": "stdout",
          "text": [
            "\tTraining R²: 0.4605\n",
            "\tValidation R²: 0.4518\n",
            "Testing alpha: 0.00018\n"
          ]
        },
        {
          "output_type": "stream",
          "name": "stderr",
          "text": [
            "/usr/local/lib/python3.11/dist-packages/sklearn/impute/_base.py:635: UserWarning: Skipping features without any observed values: ['host_response_time' 'neighbourhood_cleansed'\n",
            " 'neighbourhood_group_cleansed' 'city' 'state' 'property_type' 'room_type'\n",
            " 'bed_type' 'amenities' 'security_deposit' 'cleaning_fee' 'extra_people'\n",
            " 'cancellation_policy' 'comments']. At least one non-missing value is needed for imputation with strategy='mean'.\n",
            "  warnings.warn(\n",
            "/usr/local/lib/python3.11/dist-packages/sklearn/impute/_base.py:635: UserWarning: Skipping features without any observed values: ['host_response_time' 'neighbourhood_cleansed'\n",
            " 'neighbourhood_group_cleansed' 'city' 'state' 'property_type' 'room_type'\n",
            " 'bed_type' 'amenities' 'security_deposit' 'cleaning_fee' 'extra_people'\n",
            " 'cancellation_policy' 'comments']. At least one non-missing value is needed for imputation with strategy='mean'.\n",
            "  warnings.warn(\n",
            "/usr/local/lib/python3.11/dist-packages/sklearn/impute/_base.py:635: UserWarning: Skipping features without any observed values: ['host_response_time' 'neighbourhood_cleansed'\n",
            " 'neighbourhood_group_cleansed' 'city' 'state' 'property_type' 'room_type'\n",
            " 'bed_type' 'amenities' 'security_deposit' 'cleaning_fee' 'extra_people'\n",
            " 'cancellation_policy' 'comments']. At least one non-missing value is needed for imputation with strategy='mean'.\n",
            "  warnings.warn(\n"
          ]
        },
        {
          "output_type": "stream",
          "name": "stdout",
          "text": [
            "\tTraining R²: 0.4603\n",
            "\tValidation R²: 0.4524\n",
            "Testing alpha: 0.00020\n"
          ]
        },
        {
          "output_type": "stream",
          "name": "stderr",
          "text": [
            "/usr/local/lib/python3.11/dist-packages/sklearn/impute/_base.py:635: UserWarning: Skipping features without any observed values: ['host_response_time' 'neighbourhood_cleansed'\n",
            " 'neighbourhood_group_cleansed' 'city' 'state' 'property_type' 'room_type'\n",
            " 'bed_type' 'amenities' 'security_deposit' 'cleaning_fee' 'extra_people'\n",
            " 'cancellation_policy' 'comments']. At least one non-missing value is needed for imputation with strategy='mean'.\n",
            "  warnings.warn(\n",
            "/usr/local/lib/python3.11/dist-packages/sklearn/impute/_base.py:635: UserWarning: Skipping features without any observed values: ['host_response_time' 'neighbourhood_cleansed'\n",
            " 'neighbourhood_group_cleansed' 'city' 'state' 'property_type' 'room_type'\n",
            " 'bed_type' 'amenities' 'security_deposit' 'cleaning_fee' 'extra_people'\n",
            " 'cancellation_policy' 'comments']. At least one non-missing value is needed for imputation with strategy='mean'.\n",
            "  warnings.warn(\n",
            "/usr/local/lib/python3.11/dist-packages/sklearn/impute/_base.py:635: UserWarning: Skipping features without any observed values: ['host_response_time' 'neighbourhood_cleansed'\n",
            " 'neighbourhood_group_cleansed' 'city' 'state' 'property_type' 'room_type'\n",
            " 'bed_type' 'amenities' 'security_deposit' 'cleaning_fee' 'extra_people'\n",
            " 'cancellation_policy' 'comments']. At least one non-missing value is needed for imputation with strategy='mean'.\n",
            "  warnings.warn(\n"
          ]
        },
        {
          "output_type": "stream",
          "name": "stdout",
          "text": [
            "\tTraining R²: 0.4601\n",
            "\tValidation R²: 0.4529\n",
            "Testing alpha: 0.00022\n"
          ]
        },
        {
          "output_type": "stream",
          "name": "stderr",
          "text": [
            "/usr/local/lib/python3.11/dist-packages/sklearn/impute/_base.py:635: UserWarning: Skipping features without any observed values: ['host_response_time' 'neighbourhood_cleansed'\n",
            " 'neighbourhood_group_cleansed' 'city' 'state' 'property_type' 'room_type'\n",
            " 'bed_type' 'amenities' 'security_deposit' 'cleaning_fee' 'extra_people'\n",
            " 'cancellation_policy' 'comments']. At least one non-missing value is needed for imputation with strategy='mean'.\n",
            "  warnings.warn(\n",
            "/usr/local/lib/python3.11/dist-packages/sklearn/impute/_base.py:635: UserWarning: Skipping features without any observed values: ['host_response_time' 'neighbourhood_cleansed'\n",
            " 'neighbourhood_group_cleansed' 'city' 'state' 'property_type' 'room_type'\n",
            " 'bed_type' 'amenities' 'security_deposit' 'cleaning_fee' 'extra_people'\n",
            " 'cancellation_policy' 'comments']. At least one non-missing value is needed for imputation with strategy='mean'.\n",
            "  warnings.warn(\n",
            "/usr/local/lib/python3.11/dist-packages/sklearn/impute/_base.py:635: UserWarning: Skipping features without any observed values: ['host_response_time' 'neighbourhood_cleansed'\n",
            " 'neighbourhood_group_cleansed' 'city' 'state' 'property_type' 'room_type'\n",
            " 'bed_type' 'amenities' 'security_deposit' 'cleaning_fee' 'extra_people'\n",
            " 'cancellation_policy' 'comments']. At least one non-missing value is needed for imputation with strategy='mean'.\n",
            "  warnings.warn(\n"
          ]
        },
        {
          "output_type": "stream",
          "name": "stdout",
          "text": [
            "\tTraining R²: 0.4600\n",
            "\tValidation R²: 0.4532\n",
            "Testing alpha: 0.00024\n"
          ]
        },
        {
          "output_type": "stream",
          "name": "stderr",
          "text": [
            "/usr/local/lib/python3.11/dist-packages/sklearn/impute/_base.py:635: UserWarning: Skipping features without any observed values: ['host_response_time' 'neighbourhood_cleansed'\n",
            " 'neighbourhood_group_cleansed' 'city' 'state' 'property_type' 'room_type'\n",
            " 'bed_type' 'amenities' 'security_deposit' 'cleaning_fee' 'extra_people'\n",
            " 'cancellation_policy' 'comments']. At least one non-missing value is needed for imputation with strategy='mean'.\n",
            "  warnings.warn(\n",
            "/usr/local/lib/python3.11/dist-packages/sklearn/impute/_base.py:635: UserWarning: Skipping features without any observed values: ['host_response_time' 'neighbourhood_cleansed'\n",
            " 'neighbourhood_group_cleansed' 'city' 'state' 'property_type' 'room_type'\n",
            " 'bed_type' 'amenities' 'security_deposit' 'cleaning_fee' 'extra_people'\n",
            " 'cancellation_policy' 'comments']. At least one non-missing value is needed for imputation with strategy='mean'.\n",
            "  warnings.warn(\n",
            "/usr/local/lib/python3.11/dist-packages/sklearn/impute/_base.py:635: UserWarning: Skipping features without any observed values: ['host_response_time' 'neighbourhood_cleansed'\n",
            " 'neighbourhood_group_cleansed' 'city' 'state' 'property_type' 'room_type'\n",
            " 'bed_type' 'amenities' 'security_deposit' 'cleaning_fee' 'extra_people'\n",
            " 'cancellation_policy' 'comments']. At least one non-missing value is needed for imputation with strategy='mean'.\n",
            "  warnings.warn(\n"
          ]
        },
        {
          "output_type": "stream",
          "name": "stdout",
          "text": [
            "\tTraining R²: 0.4598\n",
            "\tValidation R²: 0.4531\n",
            "Testing alpha: 0.00026\n"
          ]
        },
        {
          "output_type": "stream",
          "name": "stderr",
          "text": [
            "/usr/local/lib/python3.11/dist-packages/sklearn/impute/_base.py:635: UserWarning: Skipping features without any observed values: ['host_response_time' 'neighbourhood_cleansed'\n",
            " 'neighbourhood_group_cleansed' 'city' 'state' 'property_type' 'room_type'\n",
            " 'bed_type' 'amenities' 'security_deposit' 'cleaning_fee' 'extra_people'\n",
            " 'cancellation_policy' 'comments']. At least one non-missing value is needed for imputation with strategy='mean'.\n",
            "  warnings.warn(\n",
            "/usr/local/lib/python3.11/dist-packages/sklearn/impute/_base.py:635: UserWarning: Skipping features without any observed values: ['host_response_time' 'neighbourhood_cleansed'\n",
            " 'neighbourhood_group_cleansed' 'city' 'state' 'property_type' 'room_type'\n",
            " 'bed_type' 'amenities' 'security_deposit' 'cleaning_fee' 'extra_people'\n",
            " 'cancellation_policy' 'comments']. At least one non-missing value is needed for imputation with strategy='mean'.\n",
            "  warnings.warn(\n",
            "/usr/local/lib/python3.11/dist-packages/sklearn/impute/_base.py:635: UserWarning: Skipping features without any observed values: ['host_response_time' 'neighbourhood_cleansed'\n",
            " 'neighbourhood_group_cleansed' 'city' 'state' 'property_type' 'room_type'\n",
            " 'bed_type' 'amenities' 'security_deposit' 'cleaning_fee' 'extra_people'\n",
            " 'cancellation_policy' 'comments']. At least one non-missing value is needed for imputation with strategy='mean'.\n",
            "  warnings.warn(\n"
          ]
        },
        {
          "output_type": "stream",
          "name": "stdout",
          "text": [
            "\tTraining R²: 0.4596\n",
            "\tValidation R²: 0.4529\n",
            "Testing alpha: 0.00028\n"
          ]
        },
        {
          "output_type": "stream",
          "name": "stderr",
          "text": [
            "/usr/local/lib/python3.11/dist-packages/sklearn/impute/_base.py:635: UserWarning: Skipping features without any observed values: ['host_response_time' 'neighbourhood_cleansed'\n",
            " 'neighbourhood_group_cleansed' 'city' 'state' 'property_type' 'room_type'\n",
            " 'bed_type' 'amenities' 'security_deposit' 'cleaning_fee' 'extra_people'\n",
            " 'cancellation_policy' 'comments']. At least one non-missing value is needed for imputation with strategy='mean'.\n",
            "  warnings.warn(\n",
            "/usr/local/lib/python3.11/dist-packages/sklearn/impute/_base.py:635: UserWarning: Skipping features without any observed values: ['host_response_time' 'neighbourhood_cleansed'\n",
            " 'neighbourhood_group_cleansed' 'city' 'state' 'property_type' 'room_type'\n",
            " 'bed_type' 'amenities' 'security_deposit' 'cleaning_fee' 'extra_people'\n",
            " 'cancellation_policy' 'comments']. At least one non-missing value is needed for imputation with strategy='mean'.\n",
            "  warnings.warn(\n",
            "/usr/local/lib/python3.11/dist-packages/sklearn/impute/_base.py:635: UserWarning: Skipping features without any observed values: ['host_response_time' 'neighbourhood_cleansed'\n",
            " 'neighbourhood_group_cleansed' 'city' 'state' 'property_type' 'room_type'\n",
            " 'bed_type' 'amenities' 'security_deposit' 'cleaning_fee' 'extra_people'\n",
            " 'cancellation_policy' 'comments']. At least one non-missing value is needed for imputation with strategy='mean'.\n",
            "  warnings.warn(\n"
          ]
        },
        {
          "output_type": "stream",
          "name": "stdout",
          "text": [
            "\tTraining R²: 0.4594\n",
            "\tValidation R²: 0.4524\n",
            "Testing alpha: 0.00030\n"
          ]
        },
        {
          "output_type": "stream",
          "name": "stderr",
          "text": [
            "/usr/local/lib/python3.11/dist-packages/sklearn/impute/_base.py:635: UserWarning: Skipping features without any observed values: ['host_response_time' 'neighbourhood_cleansed'\n",
            " 'neighbourhood_group_cleansed' 'city' 'state' 'property_type' 'room_type'\n",
            " 'bed_type' 'amenities' 'security_deposit' 'cleaning_fee' 'extra_people'\n",
            " 'cancellation_policy' 'comments']. At least one non-missing value is needed for imputation with strategy='mean'.\n",
            "  warnings.warn(\n",
            "/usr/local/lib/python3.11/dist-packages/sklearn/impute/_base.py:635: UserWarning: Skipping features without any observed values: ['host_response_time' 'neighbourhood_cleansed'\n",
            " 'neighbourhood_group_cleansed' 'city' 'state' 'property_type' 'room_type'\n",
            " 'bed_type' 'amenities' 'security_deposit' 'cleaning_fee' 'extra_people'\n",
            " 'cancellation_policy' 'comments']. At least one non-missing value is needed for imputation with strategy='mean'.\n",
            "  warnings.warn(\n",
            "/usr/local/lib/python3.11/dist-packages/sklearn/impute/_base.py:635: UserWarning: Skipping features without any observed values: ['host_response_time' 'neighbourhood_cleansed'\n",
            " 'neighbourhood_group_cleansed' 'city' 'state' 'property_type' 'room_type'\n",
            " 'bed_type' 'amenities' 'security_deposit' 'cleaning_fee' 'extra_people'\n",
            " 'cancellation_policy' 'comments']. At least one non-missing value is needed for imputation with strategy='mean'.\n",
            "  warnings.warn(\n"
          ]
        },
        {
          "output_type": "stream",
          "name": "stdout",
          "text": [
            "\tTraining R²: 0.4593\n",
            "\tValidation R²: 0.4523\n",
            "Testing alpha: 0.00032\n"
          ]
        },
        {
          "output_type": "stream",
          "name": "stderr",
          "text": [
            "/usr/local/lib/python3.11/dist-packages/sklearn/impute/_base.py:635: UserWarning: Skipping features without any observed values: ['host_response_time' 'neighbourhood_cleansed'\n",
            " 'neighbourhood_group_cleansed' 'city' 'state' 'property_type' 'room_type'\n",
            " 'bed_type' 'amenities' 'security_deposit' 'cleaning_fee' 'extra_people'\n",
            " 'cancellation_policy' 'comments']. At least one non-missing value is needed for imputation with strategy='mean'.\n",
            "  warnings.warn(\n",
            "/usr/local/lib/python3.11/dist-packages/sklearn/impute/_base.py:635: UserWarning: Skipping features without any observed values: ['host_response_time' 'neighbourhood_cleansed'\n",
            " 'neighbourhood_group_cleansed' 'city' 'state' 'property_type' 'room_type'\n",
            " 'bed_type' 'amenities' 'security_deposit' 'cleaning_fee' 'extra_people'\n",
            " 'cancellation_policy' 'comments']. At least one non-missing value is needed for imputation with strategy='mean'.\n",
            "  warnings.warn(\n",
            "/usr/local/lib/python3.11/dist-packages/sklearn/impute/_base.py:635: UserWarning: Skipping features without any observed values: ['host_response_time' 'neighbourhood_cleansed'\n",
            " 'neighbourhood_group_cleansed' 'city' 'state' 'property_type' 'room_type'\n",
            " 'bed_type' 'amenities' 'security_deposit' 'cleaning_fee' 'extra_people'\n",
            " 'cancellation_policy' 'comments']. At least one non-missing value is needed for imputation with strategy='mean'.\n",
            "  warnings.warn(\n",
            "/usr/local/lib/python3.11/dist-packages/sklearn/impute/_base.py:635: UserWarning: Skipping features without any observed values: ['host_response_time' 'neighbourhood_cleansed'\n",
            " 'neighbourhood_group_cleansed' 'city' 'state' 'property_type' 'room_type'\n",
            " 'bed_type' 'amenities' 'security_deposit' 'cleaning_fee' 'extra_people'\n",
            " 'cancellation_policy' 'comments']. At least one non-missing value is needed for imputation with strategy='mean'.\n",
            "  warnings.warn(\n",
            "/usr/local/lib/python3.11/dist-packages/sklearn/impute/_base.py:635: UserWarning: Skipping features without any observed values: ['host_response_time' 'neighbourhood_cleansed'\n",
            " 'neighbourhood_group_cleansed' 'city' 'state' 'property_type' 'room_type'\n",
            " 'bed_type' 'amenities' 'security_deposit' 'cleaning_fee' 'extra_people'\n",
            " 'cancellation_policy' 'comments']. At least one non-missing value is needed for imputation with strategy='mean'.\n",
            "  warnings.warn(\n",
            "/usr/local/lib/python3.11/dist-packages/sklearn/impute/_base.py:635: UserWarning: Skipping features without any observed values: ['host_response_time' 'neighbourhood_cleansed'\n",
            " 'neighbourhood_group_cleansed' 'city' 'state' 'property_type' 'room_type'\n",
            " 'bed_type' 'amenities' 'security_deposit' 'cleaning_fee' 'extra_people'\n",
            " 'cancellation_policy' 'comments']. At least one non-missing value is needed for imputation with strategy='mean'.\n",
            "  warnings.warn(\n"
          ]
        },
        {
          "output_type": "stream",
          "name": "stdout",
          "text": [
            "\tTraining R²: 0.4592\n",
            "\tValidation R²: 0.4522\n",
            "\n",
            "Best alpha: 0.00022\n",
            "Final Training R²: 0.4600\n",
            "Final Validation R²: 0.4532\n",
            "\n",
            "Number of selected features: 23\n"
          ]
        },
        {
          "output_type": "display_data",
          "data": {
            "text/plain": [
              "<Figure size 1200x500 with 2 Axes>"
            ],
            "image/png": "[encoded data removed]"
          },
          "metadata": {}
        }
      ]
    },
    {
      "cell_type": "code",
      "source": [
        "# -----------------------------------------------------------------------------------------------------------------------------------------------------------------------------------"
      ],
      "metadata": {
        "id": "IDVods_tEEAu"
      },
      "execution_count": null,
      "outputs": []
    },
    {
      "cell_type": "code",
      "source": [
        "import pandas as pd\n",
        "import random\n",
        "import gc\n",
        "import math\n",
        "import numpy as np\n",
        "from textblob import TextBlob\n",
        "from sklearn.model_selection import train_test_split\n",
        "from sklearn.compose import ColumnTransformer\n",
        "from sklearn.preprocessing import OneHotEncoder, MinMaxScaler\n",
        "from scipy.sparse import csr_matrix, save_npz, load_npz\n",
        "\n",
        "random.seed(13)\n",
        "\n",
        "def calculate_sentiment(entry):\n",
        "    if not isinstance(entry, str) or pd.isna(entry):\n",
        "        return -55\n",
        "    opinion = TextBlob(entry)\n",
        "    return opinion.sentiment.polarity\n",
        "\n",
        "def normalize(X_train, X_val, X_test):\n",
        "    numeric_cols = X_train.select_dtypes(include=['int', 'float']).columns\n",
        "    categorical_cols = X_train.select_dtypes(include=['object', 'category']).columns\n",
        "\n",
        "    preprocessor = ColumnTransformer(\n",
        "        transformers=[\n",
        "            ('num', MinMaxScaler(), numeric_cols),\n",
        "            ('cat', OneHotEncoder(handle_unknown='ignore', sparse_output=True), categorical_cols)\n",
        "        ]\n",
        "    )\n",
        "\n",
        "    X_train_norm = preprocessor.fit_transform(X_train)\n",
        "    X_val_norm = preprocessor.transform(X_val)\n",
        "    X_test_norm = preprocessor.transform(X_test)\n",
        "\n",
        "    feature_names = preprocessor.get_feature_names_out()\n",
        "    np.save('Data/normalized_feature_names.npy', feature_names)\n",
        "\n",
        "    return X_train_norm, X_val_norm, X_test_norm, feature_names\n",
        "\n",
        "def split(dataset, val_frac=0.10, test_frac=0.10):\n",
        "    X = dataset.drop(columns=['price', 'id', 'host_id', 'Unnamed: 0'], errors='ignore')\n",
        "    y = dataset['price']\n",
        "\n",
        "    X_train, X_temp, y_train, y_temp = train_test_split(X, y, test_size=(val_frac + test_frac), random_state=1)\n",
        "    X_test, X_val, y_test, y_val = train_test_split(X_temp, y_temp, test_size=val_frac / (val_frac + test_frac), random_state=1)\n",
        "\n",
        "    return X_train, y_train, X_val, y_val, X_test, y_test\n",
        "\n",
        "if __name__ == \"__main__\":\n",
        "    review_data = pd.read_csv('Data/reviews_original.csv', usecols=['listing_id', 'comments'])\n",
        "    review_data['comments'] = review_data['comments'].apply(calculate_sentiment)\n",
        "    review_data = review_data[review_data['comments'] != -55]\n",
        "    sentiment_scores = review_data.groupby('listing_id')['comments'].mean().reset_index()\n",
        "    sentiment_scores.columns = ['id', 'sentiment']\n",
        "    sentiment_scores.to_parquet('Data/reviews_cleaned.parquet', index=False)\n",
        "\n",
        "    dataset = pd.read_csv(\n",
        "        'Data/data_cleaned.csv',\n",
        "        dtype={\n",
        "            'id': 'int32',\n",
        "            'host_id': 'int32',\n",
        "            'price': 'float32'\n",
        "        },\n",
        "        usecols=lambda col: col != 'Unnamed: 0'\n",
        "    )\n",
        "\n",
        "    if 'id' in dataset.columns:\n",
        "      dataset = dataset.merge(sentiment_scores, how='left', on='id')\n",
        "      dataset['sentiment'] = dataset['sentiment'].fillna(0)\n",
        "    else:\n",
        "      print(\"Warning: 'listing_id' not found in dataset. Skipping sentiment merge.\")\n",
        "      print(dataset.columns)\n",
        "      dataset['sentiment'] = 0  # fallback\n",
        "\n",
        "    dataset['sentiment'] = dataset['sentiment'].fillna(0)\n",
        "\n",
        "    X_train, y_train, X_val, y_val, X_test, y_test = split(dataset)\n",
        "    del dataset\n",
        "    gc.collect()\n",
        "\n",
        "    X_train_norm, X_val_norm, X_test_norm, feature_names = normalize(X_train, X_val, X_test)\n",
        "    del X_train, X_val, X_test\n",
        "    gc.collect()\n",
        "\n",
        "    try:\n",
        "        coeffs = np.load('Data/selected_coefs.npy', allow_pickle=True)\n",
        "\n",
        "        if coeffs.dtype == bool and len(coeffs) == len(feature_names):\n",
        "            selected_features = np.array(feature_names)[coeffs]\n",
        "        elif np.issubdtype(coeffs.dtype, np.integer):\n",
        "            selected_features = np.array(feature_names)[coeffs]\n",
        "        else:\n",
        "            selected_features = coeffs\n",
        "\n",
        "        selected_indices = [i for i, name in enumerate(feature_names) if name in selected_features]\n",
        "\n",
        "        X_train_norm = X_train_norm[:, selected_indices]\n",
        "        X_val_norm = X_val_norm[:, selected_indices]\n",
        "        X_test_norm = X_test_norm[:, selected_indices]\n",
        "\n",
        "    except FileNotFoundError:\n",
        "        print(\"No coefficient mask found. Saving all features.\")\n",
        "\n",
        "    save_npz('Data/data_cleaned_train_comments_X.npz', csr_matrix(X_train_norm))\n",
        "    y_train.to_frame().to_parquet('Data/data_cleaned_train_y.parquet')\n",
        "\n",
        "    save_npz('Data/data_cleaned_val_comments_X.npz', csr_matrix(X_val_norm))\n",
        "    y_val.to_frame().to_parquet('Data/data_cleaned_val_y.parquet')\n",
        "\n",
        "    save_npz('Data/data_cleaned_test_comments_X.npz', csr_matrix(X_test_norm))\n",
        "    y_test.to_frame().to_parquet('Data/data_cleaned_test_y.parquet')\n",
        "\n",
        "    print(\"Preprocessing complete. Sentiment integrated and saved in sparse format.\")\n"
      ],
      "metadata": {
        "colab": {
          "base_uri": "https://localhost:8080/"
        },
        "id": "h7AS4PhWARra",
        "outputId": "6149ab25-5bf3-4481-cf24-3fd58032e13a"
      },
      "execution_count": null,
      "outputs": [
        {
          "output_type": "stream",
          "name": "stderr",
          "text": [
            "/usr/local/lib/python3.11/dist-packages/sklearn/utils/_array_api.py:776: RuntimeWarning: All-NaN slice encountered\n",
            "  return xp.asarray(numpy.nanmin(X, axis=axis))\n",
            "/usr/local/lib/python3.11/dist-packages/sklearn/utils/_array_api.py:793: RuntimeWarning: All-NaN slice encountered\n",
            "  return xp.asarray(numpy.nanmax(X, axis=axis))\n"
          ]
        },
        {
          "output_type": "stream",
          "name": "stdout",
          "text": [
            "Preprocessing complete. Sentiment integrated and saved in sparse format.\n"
          ]
        }
      ]
    },
    {
      "cell_type": "code",
      "source": [
        "import pandas as pd\n",
        "import numpy as np\n",
        "import random\n",
        "import os\n",
        "import gc\n",
        "import logging\n",
        "from textblob import TextBlob\n",
        "from sklearn.model_selection import train_test_split\n",
        "from sklearn.compose import ColumnTransformer\n",
        "from sklearn.preprocessing import OneHotEncoder, MinMaxScaler\n",
        "from scipy.sparse import csr_matrix, save_npz\n",
        "\n",
        "# Setup logging\n",
        "logging.basicConfig(level=logging.INFO, format='%(asctime)s - %(levelname)s - %(message)s')\n",
        "\n",
        "# Config\n",
        "DATA_DIR = 'Data'\n",
        "OUTPUT_DIR = os.path.join(DATA_DIR, 'output')\n",
        "os.makedirs(OUTPUT_DIR, exist_ok=True)\n",
        "\n",
        "# Seed\n",
        "random.seed(13)\n",
        "\n",
        "def calculate_sentiment(entry):\n",
        "    if not isinstance(entry, str) or pd.isna(entry):\n",
        "        return -55\n",
        "    return TextBlob(entry).sentiment.polarity\n",
        "\n",
        "def load_and_process_reviews():\n",
        "    logging.info(\"Loading and processing reviews for sentiment...\")\n",
        "    review_path = os.path.join(DATA_DIR, 'reviews_original.csv')\n",
        "    review_data = pd.read_csv(review_path, usecols=['listing_id', 'comments'])\n",
        "    review_data['comments'] = review_data['comments'].apply(calculate_sentiment)\n",
        "    review_data = review_data[review_data['comments'] != -55]\n",
        "    sentiment_scores = review_data.groupby('listing_id')['comments'].mean().reset_index()\n",
        "    sentiment_scores.columns = ['id', 'sentiment']\n",
        "    sentiment_scores.to_parquet(os.path.join(OUTPUT_DIR, 'reviews_cleaned.parquet'), index=False)\n",
        "    return sentiment_scores\n",
        "\n",
        "def load_main_dataset(sentiment_scores):\n",
        "    logging.info(\"Loading main dataset and merging sentiment...\")\n",
        "    data_path = os.path.join(DATA_DIR, 'data_cleaned.csv')\n",
        "    dataset = pd.read_csv(data_path, dtype={'id': 'int32', 'host_id': 'int32', 'price': 'float32'})\n",
        "\n",
        "    if 'id' in dataset.columns:\n",
        "        dataset = dataset.merge(sentiment_scores, how='left', on='id')\n",
        "        dataset['sentiment'] = dataset['sentiment'].fillna(0)\n",
        "    else:\n",
        "        logging.warning(\"'id' not found in dataset. Skipping sentiment merge.\")\n",
        "        dataset['sentiment'] = 0\n",
        "\n",
        "    return dataset\n",
        "\n",
        "def split_data(dataset, val_frac=0.1, test_frac=0.1):\n",
        "    logging.info(\"Splitting dataset into train, val, and test sets...\")\n",
        "    X = dataset.drop(columns=['price', 'id', 'host_id'], errors='ignore')\n",
        "    y = dataset['price']\n",
        "    X_train, X_temp, y_train, y_temp = train_test_split(X, y, test_size=(val_frac + test_frac), random_state=1)\n",
        "    X_test, X_val, y_test, y_val = train_test_split(X_temp, y_temp, test_size=val_frac / (val_frac + test_frac), random_state=1)\n",
        "    return X_train, y_train, X_val, y_val, X_test, y_test\n",
        "\n",
        "def normalize(X_train, X_val, X_test):\n",
        "    logging.info(\"Normalizing features...\")\n",
        "    numeric_cols = X_train.select_dtypes(include=['int', 'float']).columns\n",
        "    categorical_cols = X_train.select_dtypes(include=['object', 'category']).columns\n",
        "\n",
        "    preprocessor = ColumnTransformer(\n",
        "        transformers=[\n",
        "            ('num', MinMaxScaler(), numeric_cols),\n",
        "            ('cat', OneHotEncoder(handle_unknown='ignore', sparse_output=True), categorical_cols)\n",
        "        ]\n",
        "    )\n",
        "\n",
        "    X_train_norm = preprocessor.fit_transform(X_train)\n",
        "    X_val_norm = preprocessor.transform(X_val)\n",
        "    X_test_norm = preprocessor.transform(X_test)\n",
        "\n",
        "    feature_names = preprocessor.get_feature_names_out()\n",
        "    np.save(os.path.join(OUTPUT_DIR, 'normalized_feature_names.npy'), feature_names)\n",
        "\n",
        "    return X_train_norm, X_val_norm, X_test_norm, feature_names\n",
        "\n",
        "def select_features(X_train, X_val, X_test, feature_names):\n",
        "    logging.info(\"Selecting features based on saved coefficients if available...\")\n",
        "    try:\n",
        "        coeffs = np.load(os.path.join(DATA_DIR, 'selected_coefs.npy'), allow_pickle=True)\n",
        "        if coeffs.dtype == bool and len(coeffs) == len(feature_names):\n",
        "            selected_features = np.array(feature_names)[coeffs]\n",
        "        elif np.issubdtype(coeffs.dtype, np.integer):\n",
        "            selected_features = np.array(feature_names)[coeffs]\n",
        "        else:\n",
        "            selected_features = coeffs\n",
        "\n",
        "        selected_indices = [i for i, name in enumerate(feature_names) if name in selected_features]\n",
        "        return (\n",
        "            X_train[:, selected_indices],\n",
        "            X_val[:, selected_indices],\n",
        "            X_test[:, selected_indices],\n",
        "            selected_features\n",
        "        )\n",
        "    except FileNotFoundError:\n",
        "        logging.info(\"No coefficient mask found. Using all features.\")\n",
        "        return X_train, X_val, X_test, feature_names\n",
        "\n",
        "def save_processed_data(X_train, y_train, X_val, y_val, X_test, y_test):\n",
        "    logging.info(\"Saving processed datasets...\")\n",
        "    save_npz(os.path.join(OUTPUT_DIR, 'train_X.npz'), csr_matrix(X_train))\n",
        "    y_train.to_frame().to_parquet(os.path.join(OUTPUT_DIR, 'train_y.parquet'))\n",
        "\n",
        "    save_npz(os.path.join(OUTPUT_DIR, 'val_X.npz'), csr_matrix(X_val))\n",
        "    y_val.to_frame().to_parquet(os.path.join(OUTPUT_DIR, 'val_y.parquet'))\n",
        "\n",
        "    save_npz(os.path.join(OUTPUT_DIR, 'test_X.npz'), csr_matrix(X_test))\n",
        "    y_test.to_frame().to_parquet(os.path.join(OUTPUT_DIR, 'test_y.parquet'))\n",
        "\n",
        "def save_metadata(feature_names, y_train, y_val, y_test):\n",
        "    logging.info(\"Saving metadata...\")\n",
        "    metadata = {\n",
        "        'num_features': len(feature_names),\n",
        "        'train_size': len(y_train),\n",
        "        'val_size': len(y_val),\n",
        "        'test_size': len(y_test),\n",
        "        'feature_names_file': 'normalized_feature_names.npy',\n",
        "        'features_output_dir': OUTPUT_DIR\n",
        "    }\n",
        "    pd.Series(metadata).to_json(os.path.join(OUTPUT_DIR, 'metadata.json'))\n",
        "\n",
        "def main():\n",
        "    sentiment_scores = load_and_process_reviews()\n",
        "    dataset = load_main_dataset(sentiment_scores)\n",
        "    X_train, y_train, X_val, y_val, X_test, y_test = split_data(dataset)\n",
        "    del dataset; gc.collect()\n",
        "\n",
        "    X_train_norm, X_val_norm, X_test_norm, feature_names = normalize(X_train, X_val, X_test)\n",
        "    del X_train, X_val, X_test; gc.collect()\n",
        "\n",
        "    X_train_sel, X_val_sel, X_test_sel, selected_features = select_features(X_train_norm, X_val_norm, X_test_norm, feature_names)\n",
        "\n",
        "    save_processed_data(X_train_sel, y_train, X_val_sel, y_val, X_test_sel, y_test)\n",
        "    save_metadata(selected_features, y_train, y_val, y_test)\n",
        "\n",
        "    logging.info(\"✅ Preprocessing complete. Output saved to '%s'\", OUTPUT_DIR)\n",
        "\n",
        "if __name__ == \"__main__\":\n",
        "    main()\n"
      ],
      "metadata": {
        "id": "gJrpz8QUADwZ",
        "colab": {
          "base_uri": "https://localhost:8080/"
        },
        "outputId": "68ba5e83-39b9-41a0-b1e6-fe7e72aea882"
      },
      "execution_count": null,
      "outputs": [
        {
          "output_type": "stream",
          "name": "stderr",
          "text": [
            "/usr/local/lib/python3.11/dist-packages/sklearn/utils/_array_api.py:776: RuntimeWarning: All-NaN slice encountered\n",
            "  return xp.asarray(numpy.nanmin(X, axis=axis))\n",
            "/usr/local/lib/python3.11/dist-packages/sklearn/utils/_array_api.py:793: RuntimeWarning: All-NaN slice encountered\n",
            "  return xp.asarray(numpy.nanmax(X, axis=axis))\n"
          ]
        }
      ]
    },
    {
      "cell_type": "code",
      "source": [
        "# === Display summary of preprocessing ===\n",
        "import pandas as pd\n",
        "from scipy.sparse import load_npz\n",
        "import os\n",
        "\n",
        "OUTPUT_DIR = 'Data/output'\n",
        "\n",
        "# Load metadata\n",
        "metadata_path = os.path.join(OUTPUT_DIR, 'metadata.json')\n",
        "metadata = pd.read_json(metadata_path, typ='series')\n",
        "\n",
        "# Load to get feature matrix shape\n",
        "X_train = load_npz(os.path.join(OUTPUT_DIR, 'train_X.npz'))\n",
        "X_val = load_npz(os.path.join(OUTPUT_DIR, 'val_X.npz'))\n",
        "X_test = load_npz(os.path.join(OUTPUT_DIR, 'test_X.npz'))\n",
        "\n",
        "print(\"✅ Preprocessing Summary\\n\")\n",
        "print(f\"📁 Output directory: {metadata['features_output_dir']}\")\n",
        "print(f\"🧠 Total features: {metadata['num_features']}\")\n",
        "print(f\"   ├── Train samples: {metadata['train_size']} ({X_train.shape[1]} features)\")\n",
        "print(f\"   ├── Validation samples: {metadata['val_size']} ({X_val.shape[1]} features)\")\n",
        "print(f\"   └── Test samples: {metadata['test_size']} ({X_test.shape[1]} features)\\n\")\n",
        "\n",
        "print(\"📦 Files saved:\")\n",
        "print(\" - train_X.npz, train_y.parquet\")\n",
        "print(\" - val_X.npz, val_y.parquet\")\n",
        "print(\" - test_X.npz, test_y.parquet\")\n",
        "print(\" - normalized_feature_names.npy\")\n",
        "print(\" - reviews_cleaned.parquet\")\n",
        "print(\" - metadata.json\")\n"
      ],
      "metadata": {
        "colab": {
          "base_uri": "https://localhost:8080/"
        },
        "id": "Hy8fa2sscE96",
        "outputId": "e75bb4a0-ff00-4abd-8986-da309391708b"
      },
      "execution_count": null,
      "outputs": [
        {
          "output_type": "stream",
          "name": "stdout",
          "text": [
            "✅ Preprocessing Summary\n",
            "\n",
            "📁 Output directory: Data/output\n",
            "🧠 Total features: 49\n",
            "   ├── Train samples: 40148 (0 features)\n",
            "   ├── Validation samples: 5019 (0 features)\n",
            "   └── Test samples: 5018 (0 features)\n",
            "\n",
            "📦 Files saved:\n",
            " - train_X.npz, train_y.parquet\n",
            " - val_X.npz, val_y.parquet\n",
            " - test_X.npz, test_y.parquet\n",
            " - normalized_feature_names.npy\n",
            " - reviews_cleaned.parquet\n",
            " - metadata.json\n"
          ]
        }
      ]
    },
    {
      "cell_type": "code",
      "source": [
        "!pip install rich\n"
      ],
      "metadata": {
        "colab": {
          "base_uri": "https://localhost:8080/"
        },
        "id": "SzPqDAbAcQLl",
        "outputId": "a25cfaa4-d42a-4a83-cfe1-acdeb12992c7"
      },
      "execution_count": null,
      "outputs": [
        {
          "output_type": "stream",
          "name": "stdout",
          "text": [
            "Requirement already satisfied: rich in /usr/local/lib/python3.11/dist-packages (13.9.4)\n",
            "Requirement already satisfied: markdown-it-py>=2.2.0 in /usr/local/lib/python3.11/dist-packages (from rich) (3.0.0)\n",
            "Requirement already satisfied: pygments<3.0.0,>=2.13.0 in /usr/local/lib/python3.11/dist-packages (from rich) (2.18.0)\n",
            "Requirement already satisfied: mdurl~=0.1 in /usr/local/lib/python3.11/dist-packages (from markdown-it-py>=2.2.0->rich) (0.1.2)\n"
          ]
        }
      ]
    },
    {
      "cell_type": "code",
      "source": [
        "from rich.console import Console\n",
        "from rich.table import Table\n",
        "from scipy.sparse import load_npz\n",
        "import pandas as pd\n",
        "import os\n",
        "\n",
        "console = Console()\n",
        "OUTPUT_DIR = 'Data/output'\n",
        "metadata_path = os.path.join(OUTPUT_DIR, 'metadata.json')\n",
        "\n",
        "# Load metadata\n",
        "metadata = pd.read_json(metadata_path, typ='series')\n",
        "\n",
        "# Load sparse matrices to confirm shape\n",
        "X_train = load_npz(os.path.join(OUTPUT_DIR, 'train_X.npz'))\n",
        "X_val = load_npz(os.path.join(OUTPUT_DIR, 'val_X.npz'))\n",
        "X_test = load_npz(os.path.join(OUTPUT_DIR, 'test_X.npz'))\n",
        "\n",
        "# Display title\n",
        "console.rule(\"[bold green]✅ Preprocessing Summary\")\n",
        "\n",
        "# Table of dataset sizes\n",
        "table = Table(title=\"📊 Dataset Split Summary\")\n",
        "table.add_column(\"Split\", style=\"cyan\", justify=\"center\")\n",
        "table.add_column(\"Samples\", justify=\"right\")\n",
        "table.add_column(\"Features\", justify=\"right\")\n",
        "\n",
        "table.add_row(\"Train\", str(X_train.shape[0]), str(X_train.shape[1]))\n",
        "table.add_row(\"Validation\", str(X_val.shape[0]), str(X_val.shape[1]))\n",
        "table.add_row(\"Test\", str(X_test.shape[0]), str(X_test.shape[1]))\n",
        "\n",
        "console.print(table)\n",
        "\n",
        "# Feature info\n",
        "console.print(f\"\\n🧠 [bold]Total Features:[/bold] {metadata['num_features']}\")\n",
        "console.print(f\"📁 [bold]Output Directory:[/bold] {metadata['features_output_dir']}\")\n",
        "\n",
        "# Files saved\n",
        "console.print(\"\\n📦 [bold]Files Saved:[/bold]\", style=\"yellow\")\n",
        "saved_files = [\n",
        "    'train_X.npz', 'train_y.parquet',\n",
        "    'val_X.npz', 'val_y.parquet',\n",
        "    'test_X.npz', 'test_y.parquet',\n",
        "    'normalized_feature_names.npy',\n",
        "    'reviews_cleaned.parquet',\n",
        "    'metadata.json'\n",
        "]\n",
        "for file in saved_files:\n",
        "    console.print(f\" - {file}\", style=\"dim\")\n",
        "\n",
        "console.rule(\"[green]Done\")\n"
      ],
      "metadata": {
        "colab": {
          "base_uri": "https://localhost:8080/",
          "height": 411
        },
        "id": "mXonOrv5cTIM",
        "outputId": "d910e357-b3ef-41c1-e9c8-de5bfd624382"
      },
      "execution_count": null,
      "outputs": [
        {
          "output_type": "display_data",
          "data": {
            "text/plain": [
              "\u001b[92m──────────────────────────────────────────── \u001b[0m\u001b[1;32m✅ Preprocessing Summary\u001b[0m\u001b[92m ─────────────────────────────────────────────\u001b[0m\n"
            ],
            "text/html": [
              "<pre style=\"white-space:pre;overflow-x:auto;line-height:normal;font-family:Menlo,'DejaVu Sans Mono',consolas,'Courier New',monospace\"><span style=\"color: #00ff00; text-decoration-color: #00ff00\">──────────────────────────────────────────── </span><span style=\"color: #008000; text-decoration-color: #008000; font-weight: bold\">✅ Preprocessing Summary</span><span style=\"color: #00ff00; text-decoration-color: #00ff00\"> ─────────────────────────────────────────────</span>\n",
              "</pre>\n"
            ]
          },
          "metadata": {}
        },
        {
          "output_type": "display_data",
          "data": {
            "text/plain": [
              "\u001b[3m     📊 Dataset Split Summary      \u001b[0m\n",
              "┏━━━━━━━━━━━━┳━━━━━━━━━┳━━━━━━━━━━┓\n",
              "┃\u001b[1m \u001b[0m\u001b[1m  Split   \u001b[0m\u001b[1m \u001b[0m┃\u001b[1m \u001b[0m\u001b[1mSamples\u001b[0m\u001b[1m \u001b[0m┃\u001b[1m \u001b[0m\u001b[1mFeatures\u001b[0m\u001b[1m \u001b[0m┃\n",
              "┡━━━━━━━━━━━━╇━━━━━━━━━╇━━━━━━━━━━┩\n",
              "│\u001b[36m \u001b[0m\u001b[36m  Train   \u001b[0m\u001b[36m \u001b[0m│   40148 │        0 │\n",
              "│\u001b[36m \u001b[0m\u001b[36mValidation\u001b[0m\u001b[36m \u001b[0m│    5019 │        0 │\n",
              "│\u001b[36m \u001b[0m\u001b[36m   Test   \u001b[0m\u001b[36m \u001b[0m│    5018 │        0 │\n",
              "└────────────┴─────────┴──────────┘\n"
            ],
            "text/html": [
              "<pre style=\"white-space:pre;overflow-x:auto;line-height:normal;font-family:Menlo,'DejaVu Sans Mono',consolas,'Courier New',monospace\"><span style=\"font-style: italic\">     📊 Dataset Split Summary      </span>\n",
              "┏━━━━━━━━━━━━┳━━━━━━━━━┳━━━━━━━━━━┓\n",
              "┃<span style=\"font-weight: bold\">   Split    </span>┃<span style=\"font-weight: bold\"> Samples </span>┃<span style=\"font-weight: bold\"> Features </span>┃\n",
              "┡━━━━━━━━━━━━╇━━━━━━━━━╇━━━━━━━━━━┩\n",
              "│<span style=\"color: #008080; text-decoration-color: #008080\">   Train    </span>│   40148 │        0 │\n",
              "│<span style=\"color: #008080; text-decoration-color: #008080\"> Validation </span>│    5019 │        0 │\n",
              "│<span style=\"color: #008080; text-decoration-color: #008080\">    Test    </span>│    5018 │        0 │\n",
              "└────────────┴─────────┴──────────┘\n",
              "</pre>\n"
            ]
          },
          "metadata": {}
        },
        {
          "output_type": "display_data",
          "data": {
            "text/plain": [
              "\n",
              "🧠 \u001b[1mTotal Features:\u001b[0m \u001b[1;36m49\u001b[0m\n"
            ],
            "text/html": [
              "<pre style=\"white-space:pre;overflow-x:auto;line-height:normal;font-family:Menlo,'DejaVu Sans Mono',consolas,'Courier New',monospace\">\n",
              "🧠 <span style=\"font-weight: bold\">Total Features:</span> <span style=\"color: #008080; text-decoration-color: #008080; font-weight: bold\">49</span>\n",
              "</pre>\n"
            ]
          },
          "metadata": {}
        },
        {
          "output_type": "display_data",
          "data": {
            "text/plain": [
              "📁 \u001b[1mOutput Directory:\u001b[0m Data/output\n"
            ],
            "text/html": [
              "<pre style=\"white-space:pre;overflow-x:auto;line-height:normal;font-family:Menlo,'DejaVu Sans Mono',consolas,'Courier New',monospace\">📁 <span style=\"font-weight: bold\">Output Directory:</span> Data/output\n",
              "</pre>\n"
            ]
          },
          "metadata": {}
        },
        {
          "output_type": "display_data",
          "data": {
            "text/plain": [
              "\n",
              "\u001b[33m📦 \u001b[0m\u001b[1;33mFiles Saved:\u001b[0m\n"
            ],
            "text/html": [
              "<pre style=\"white-space:pre;overflow-x:auto;line-height:normal;font-family:Menlo,'DejaVu Sans Mono',consolas,'Courier New',monospace\">\n",
              "<span style=\"color: #808000; text-decoration-color: #808000\">📦 </span><span style=\"color: #808000; text-decoration-color: #808000; font-weight: bold\">Files Saved:</span>\n",
              "</pre>\n"
            ]
          },
          "metadata": {}
        },
        {
          "output_type": "display_data",
          "data": {
            "text/plain": [
              "\u001b[2m - train_X.npz\u001b[0m\n"
            ],
            "text/html": [
              "<pre style=\"white-space:pre;overflow-x:auto;line-height:normal;font-family:Menlo,'DejaVu Sans Mono',consolas,'Courier New',monospace\"><span style=\"color: #7f7f7f; text-decoration-color: #7f7f7f\"> - train_X.npz</span>\n",
              "</pre>\n"
            ]
          },
          "metadata": {}
        },
        {
          "output_type": "display_data",
          "data": {
            "text/plain": [
              "\u001b[2m - train_y.parquet\u001b[0m\n"
            ],
            "text/html": [
              "<pre style=\"white-space:pre;overflow-x:auto;line-height:normal;font-family:Menlo,'DejaVu Sans Mono',consolas,'Courier New',monospace\"><span style=\"color: #7f7f7f; text-decoration-color: #7f7f7f\"> - train_y.parquet</span>\n",
              "</pre>\n"
            ]
          },
          "metadata": {}
        },
        {
          "output_type": "display_data",
          "data": {
            "text/plain": [
              "\u001b[2m - val_X.npz\u001b[0m\n"
            ],
            "text/html": [
              "<pre style=\"white-space:pre;overflow-x:auto;line-height:normal;font-family:Menlo,'DejaVu Sans Mono',consolas,'Courier New',monospace\"><span style=\"color: #7f7f7f; text-decoration-color: #7f7f7f\"> - val_X.npz</span>\n",
              "</pre>\n"
            ]
          },
          "metadata": {}
        },
        {
          "output_type": "display_data",
          "data": {
            "text/plain": [
              "\u001b[2m - val_y.parquet\u001b[0m\n"
            ],
            "text/html": [
              "<pre style=\"white-space:pre;overflow-x:auto;line-height:normal;font-family:Menlo,'DejaVu Sans Mono',consolas,'Courier New',monospace\"><span style=\"color: #7f7f7f; text-decoration-color: #7f7f7f\"> - val_y.parquet</span>\n",
              "</pre>\n"
            ]
          },
          "metadata": {}
        },
        {
          "output_type": "display_data",
          "data": {
            "text/plain": [
              "\u001b[2m - test_X.npz\u001b[0m\n"
            ],
            "text/html": [
              "<pre style=\"white-space:pre;overflow-x:auto;line-height:normal;font-family:Menlo,'DejaVu Sans Mono',consolas,'Courier New',monospace\"><span style=\"color: #7f7f7f; text-decoration-color: #7f7f7f\"> - test_X.npz</span>\n",
              "</pre>\n"
            ]
          },
          "metadata": {}
        },
        {
          "output_type": "display_data",
          "data": {
            "text/plain": [
              "\u001b[2m - test_y.parquet\u001b[0m\n"
            ],
            "text/html": [
              "<pre style=\"white-space:pre;overflow-x:auto;line-height:normal;font-family:Menlo,'DejaVu Sans Mono',consolas,'Courier New',monospace\"><span style=\"color: #7f7f7f; text-decoration-color: #7f7f7f\"> - test_y.parquet</span>\n",
              "</pre>\n"
            ]
          },
          "metadata": {}
        },
        {
          "output_type": "display_data",
          "data": {
            "text/plain": [
              "\u001b[2m - normalized_feature_names.npy\u001b[0m\n"
            ],
            "text/html": [
              "<pre style=\"white-space:pre;overflow-x:auto;line-height:normal;font-family:Menlo,'DejaVu Sans Mono',consolas,'Courier New',monospace\"><span style=\"color: #7f7f7f; text-decoration-color: #7f7f7f\"> - normalized_feature_names.npy</span>\n",
              "</pre>\n"
            ]
          },
          "metadata": {}
        },
        {
          "output_type": "display_data",
          "data": {
            "text/plain": [
              "\u001b[2m - reviews_cleaned.parquet\u001b[0m\n"
            ],
            "text/html": [
              "<pre style=\"white-space:pre;overflow-x:auto;line-height:normal;font-family:Menlo,'DejaVu Sans Mono',consolas,'Courier New',monospace\"><span style=\"color: #7f7f7f; text-decoration-color: #7f7f7f\"> - reviews_cleaned.parquet</span>\n",
              "</pre>\n"
            ]
          },
          "metadata": {}
        },
        {
          "output_type": "display_data",
          "data": {
            "text/plain": [
              "\u001b[2m - metadata.json\u001b[0m\n"
            ],
            "text/html": [
              "<pre style=\"white-space:pre;overflow-x:auto;line-height:normal;font-family:Menlo,'DejaVu Sans Mono',consolas,'Courier New',monospace\"><span style=\"color: #7f7f7f; text-decoration-color: #7f7f7f\"> - metadata.json</span>\n",
              "</pre>\n"
            ]
          },
          "metadata": {}
        },
        {
          "output_type": "display_data",
          "data": {
            "text/plain": [
              "\u001b[92m────────────────────────────────────────────────────── \u001b[0m\u001b[32mDone\u001b[0m\u001b[92m ───────────────────────────────────────────────────────\u001b[0m\n"
            ],
            "text/html": [
              "<pre style=\"white-space:pre;overflow-x:auto;line-height:normal;font-family:Menlo,'DejaVu Sans Mono',consolas,'Courier New',monospace\"><span style=\"color: #00ff00; text-decoration-color: #00ff00\">────────────────────────────────────────────────────── </span><span style=\"color: #008000; text-decoration-color: #008000\">Done</span><span style=\"color: #00ff00; text-decoration-color: #00ff00\"> ───────────────────────────────────────────────────────</span>\n",
              "</pre>\n"
            ]
          },
          "metadata": {}
        }
      ]
    },
    {
      "cell_type": "code",
      "source": [
        "import pandas as pd\n",
        "import numpy as np\n",
        "from scipy.sparse import load_npz\n",
        "from sklearn.linear_model import LinearRegression\n",
        "from sklearn.ensemble import RandomForestRegressor\n",
        "from xgboost import XGBRegressor\n",
        "from sklearn.metrics import mean_squared_error, mean_absolute_error\n",
        "import joblib\n",
        "from rich import print\n",
        "\n",
        "# Load data\n",
        "X_train = load_npz('Data/output/train_X.npz')\n",
        "y_train = pd.read_parquet('Data/output/train_y.parquet').values.ravel()\n",
        "\n",
        "X_val = load_npz('Data/output/val_X.npz')\n",
        "y_val = pd.read_parquet('Data/output/val_y.parquet').values.ravel()\n",
        "\n",
        "X_test = load_npz('Data/output/test_X.npz')\n",
        "y_test = pd.read_parquet('Data/output/test_y.parquet').values.ravel()\n",
        "\n",
        "# Models to train\n",
        "models = {\n",
        "    'LinearRegression': LinearRegression(),\n",
        "    'RandomForest': RandomForestRegressor(n_estimators=100, max_depth=15, random_state=42),\n",
        "    'XGBoost': XGBRegressor(n_estimators=200, max_depth=6, learning_rate=0.1, random_state=42)\n",
        "}\n",
        "\n",
        "results = {}\n",
        "\n",
        "print(\"[bold blue]🔍 Training Models and Evaluating...[/bold blue]\")\n",
        "\n",
        "for name, model in models.items():\n",
        "    print(f\"\\n[bold green]🔧 Training {name}...[/bold green]\")\n",
        "    model.fit(X_train, y_train)\n",
        "\n",
        "    val_pred = model.predict(X_val)\n",
        "    test_pred = model.predict(X_test)\n",
        "\n",
        "    val_rmse = mean_squared_error(y_val, val_pred, squared=False)\n",
        "    val_mae = mean_absolute_error(y_val, val_pred)\n",
        "    test_rmse = mean_squared_error(y_test, test_pred, squared=False)\n",
        "    test_mae = mean_absolute_error(y_test, test_pred)\n",
        "\n",
        "    results[name] = {\n",
        "        'val_rmse': val_rmse,\n",
        "        'val_mae': val_mae,\n",
        "        'test_rmse': test_rmse,\n",
        "        'test_mae': test_mae\n",
        "    }\n",
        "\n",
        "    # Save model\n",
        "    model_path = f'Data/output/model_{name}.pkl'\n",
        "    joblib.dump(model, model_path)\n",
        "    print(f\"[bold yellow]✔ Saved model to:[/bold yellow] {model_path}\")\n",
        "\n",
        "# Show summary\n",
        "print(\"\\n[bold magenta]📊 Model Performance Summary[/bold magenta]\")\n",
        "for model_name, metrics in results.items():\n",
        "    print(f\"\\n[bold]{model_name}[/bold]\")\n",
        "    print(f\"  🔹 Val RMSE: {metrics['val_rmse']:.2f} | MAE: {metrics['val_mae']:.2f}\")\n",
        "    print(f\"  🔹 Test RMSE: {metrics['test_rmse']:.2f} | MAE: {metrics['test_mae']:.2f}\")\n"
      ],
      "metadata": {
        "colab": {
          "base_uri": "https://localhost:8080/",
          "height": 462
        },
        "id": "WjNPUVpPcgph",
        "outputId": "f1818555-0242-41ef-941e-d342f6e39015"
      },
      "execution_count": null,
      "outputs": [
        {
          "output_type": "display_data",
          "data": {
            "text/plain": [
              "\u001b[1;34m🔍 Training Models and Evaluating\u001b[0m\u001b[1;34m...\u001b[0m\n"
            ],
            "text/html": [
              "<pre style=\"white-space:pre;overflow-x:auto;line-height:normal;font-family:Menlo,'DejaVu Sans Mono',consolas,'Courier New',monospace\"><span style=\"color: #000080; text-decoration-color: #000080; font-weight: bold\">🔍 Training Models and Evaluating...</span>\n",
              "</pre>\n"
            ]
          },
          "metadata": {}
        },
        {
          "output_type": "display_data",
          "data": {
            "text/plain": [
              "\n",
              "\u001b[1;32m🔧 Training LinearRegression\u001b[0m\u001b[1;32m...\u001b[0m\n"
            ],
            "text/html": [
              "<pre style=\"white-space:pre;overflow-x:auto;line-height:normal;font-family:Menlo,'DejaVu Sans Mono',consolas,'Courier New',monospace\">\n",
              "<span style=\"color: #008000; text-decoration-color: #008000; font-weight: bold\">🔧 Training LinearRegression...</span>\n",
              "</pre>\n"
            ]
          },
          "metadata": {}
        },
        {
          "output_type": "error",
          "ename": "ValueError",
          "evalue": "Found array with 0 feature(s) (shape=(40148, 0)) while a minimum of 1 is required by LinearRegression.",
          "traceback": [
            "\u001b[0;31m---------------------------------------------------------------------------\u001b[0m",
            "\u001b[0;31mValueError\u001b[0m                                Traceback (most recent call last)",
            "\u001b[0;32m<ipython-input-20-1c2d54b4f21f>\u001b[0m in \u001b[0;36m<cell line: 0>\u001b[0;34m()\u001b[0m\n\u001b[1;32m     32\u001b[0m \u001b[0;32mfor\u001b[0m \u001b[0mname\u001b[0m\u001b[0;34m,\u001b[0m \u001b[0mmodel\u001b[0m \u001b[0;32min\u001b[0m \u001b[0mmodels\u001b[0m\u001b[0;34m.\u001b[0m\u001b[0mitems\u001b[0m\u001b[0;34m(\u001b[0m\u001b[0;34m)\u001b[0m\u001b[0;34m:\u001b[0m\u001b[0;34m\u001b[0m\u001b[0;34m\u001b[0m\u001b[0m\n\u001b[1;32m     33\u001b[0m     \u001b[0mprint\u001b[0m\u001b[0;34m(\u001b[0m\u001b[0;34mf\"\\n[bold green]🔧 Training {name}...[/bold green]\"\u001b[0m\u001b[0;34m)\u001b[0m\u001b[0;34m\u001b[0m\u001b[0;34m\u001b[0m\u001b[0m\n\u001b[0;32m---> 34\u001b[0;31m     \u001b[0mmodel\u001b[0m\u001b[0;34m.\u001b[0m\u001b[0mfit\u001b[0m\u001b[0;34m(\u001b[0m\u001b[0mX_train\u001b[0m\u001b[0;34m,\u001b[0m \u001b[0my_train\u001b[0m\u001b[0;34m)\u001b[0m\u001b[0;34m\u001b[0m\u001b[0;34m\u001b[0m\u001b[0m\n\u001b[0m\u001b[1;32m     35\u001b[0m \u001b[0;34m\u001b[0m\u001b[0m\n\u001b[1;32m     36\u001b[0m     \u001b[0mval_pred\u001b[0m \u001b[0;34m=\u001b[0m \u001b[0mmodel\u001b[0m\u001b[0;34m.\u001b[0m\u001b[0mpredict\u001b[0m\u001b[0;34m(\u001b[0m\u001b[0mX_val\u001b[0m\u001b[0;34m)\u001b[0m\u001b[0;34m\u001b[0m\u001b[0;34m\u001b[0m\u001b[0m\n",
            "\u001b[0;32m/usr/local/lib/python3.11/dist-packages/sklearn/base.py\u001b[0m in \u001b[0;36mwrapper\u001b[0;34m(estimator, *args, **kwargs)\u001b[0m\n\u001b[1;32m   1387\u001b[0m                 )\n\u001b[1;32m   1388\u001b[0m             ):\n\u001b[0;32m-> 1389\u001b[0;31m                 \u001b[0;32mreturn\u001b[0m \u001b[0mfit_method\u001b[0m\u001b[0;34m(\u001b[0m\u001b[0mestimator\u001b[0m\u001b[0;34m,\u001b[0m \u001b[0;34m*\u001b[0m\u001b[0margs\u001b[0m\u001b[0;34m,\u001b[0m \u001b[0;34m**\u001b[0m\u001b[0mkwargs\u001b[0m\u001b[0;34m)\u001b[0m\u001b[0;34m\u001b[0m\u001b[0;34m\u001b[0m\u001b[0m\n\u001b[0m\u001b[1;32m   1390\u001b[0m \u001b[0;34m\u001b[0m\u001b[0m\n\u001b[1;32m   1391\u001b[0m         \u001b[0;32mreturn\u001b[0m \u001b[0mwrapper\u001b[0m\u001b[0;34m\u001b[0m\u001b[0;34m\u001b[0m\u001b[0m\n",
            "\u001b[0;32m/usr/local/lib/python3.11/dist-packages/sklearn/linear_model/_base.py\u001b[0m in \u001b[0;36mfit\u001b[0;34m(self, X, y, sample_weight)\u001b[0m\n\u001b[1;32m    599\u001b[0m         \u001b[0maccept_sparse\u001b[0m \u001b[0;34m=\u001b[0m \u001b[0;32mFalse\u001b[0m \u001b[0;32mif\u001b[0m \u001b[0mself\u001b[0m\u001b[0;34m.\u001b[0m\u001b[0mpositive\u001b[0m \u001b[0;32melse\u001b[0m \u001b[0;34m[\u001b[0m\u001b[0;34m\"csr\"\u001b[0m\u001b[0;34m,\u001b[0m \u001b[0;34m\"csc\"\u001b[0m\u001b[0;34m,\u001b[0m \u001b[0;34m\"coo\"\u001b[0m\u001b[0;34m]\u001b[0m\u001b[0;34m\u001b[0m\u001b[0;34m\u001b[0m\u001b[0m\n\u001b[1;32m    600\u001b[0m \u001b[0;34m\u001b[0m\u001b[0m\n\u001b[0;32m--> 601\u001b[0;31m         X, y = validate_data(\n\u001b[0m\u001b[1;32m    602\u001b[0m             \u001b[0mself\u001b[0m\u001b[0;34m,\u001b[0m\u001b[0;34m\u001b[0m\u001b[0;34m\u001b[0m\u001b[0m\n\u001b[1;32m    603\u001b[0m             \u001b[0mX\u001b[0m\u001b[0;34m,\u001b[0m\u001b[0;34m\u001b[0m\u001b[0;34m\u001b[0m\u001b[0m\n",
            "\u001b[0;32m/usr/local/lib/python3.11/dist-packages/sklearn/utils/validation.py\u001b[0m in \u001b[0;36mvalidate_data\u001b[0;34m(_estimator, X, y, reset, validate_separately, skip_check_array, **check_params)\u001b[0m\n\u001b[1;32m   2959\u001b[0m             \u001b[0my\u001b[0m \u001b[0;34m=\u001b[0m \u001b[0mcheck_array\u001b[0m\u001b[0;34m(\u001b[0m\u001b[0my\u001b[0m\u001b[0;34m,\u001b[0m \u001b[0minput_name\u001b[0m\u001b[0;34m=\u001b[0m\u001b[0;34m\"y\"\u001b[0m\u001b[0;34m,\u001b[0m \u001b[0;34m**\u001b[0m\u001b[0mcheck_y_params\u001b[0m\u001b[0;34m)\u001b[0m\u001b[0;34m\u001b[0m\u001b[0;34m\u001b[0m\u001b[0m\n\u001b[1;32m   2960\u001b[0m         \u001b[0;32melse\u001b[0m\u001b[0;34m:\u001b[0m\u001b[0;34m\u001b[0m\u001b[0;34m\u001b[0m\u001b[0m\n\u001b[0;32m-> 2961\u001b[0;31m             \u001b[0mX\u001b[0m\u001b[0;34m,\u001b[0m \u001b[0my\u001b[0m \u001b[0;34m=\u001b[0m \u001b[0mcheck_X_y\u001b[0m\u001b[0;34m(\u001b[0m\u001b[0mX\u001b[0m\u001b[0;34m,\u001b[0m \u001b[0my\u001b[0m\u001b[0;34m,\u001b[0m \u001b[0;34m**\u001b[0m\u001b[0mcheck_params\u001b[0m\u001b[0;34m)\u001b[0m\u001b[0;34m\u001b[0m\u001b[0;34m\u001b[0m\u001b[0m\n\u001b[0m\u001b[1;32m   2962\u001b[0m         \u001b[0mout\u001b[0m \u001b[0;34m=\u001b[0m \u001b[0mX\u001b[0m\u001b[0;34m,\u001b[0m \u001b[0my\u001b[0m\u001b[0;34m\u001b[0m\u001b[0;34m\u001b[0m\u001b[0m\n\u001b[1;32m   2963\u001b[0m \u001b[0;34m\u001b[0m\u001b[0m\n",
            "\u001b[0;32m/usr/local/lib/python3.11/dist-packages/sklearn/utils/validation.py\u001b[0m in \u001b[0;36mcheck_X_y\u001b[0;34m(X, y, accept_sparse, accept_large_sparse, dtype, order, copy, force_writeable, force_all_finite, ensure_all_finite, ensure_2d, allow_nd, multi_output, ensure_min_samples, ensure_min_features, y_numeric, estimator)\u001b[0m\n\u001b[1;32m   1368\u001b[0m     \u001b[0mensure_all_finite\u001b[0m \u001b[0;34m=\u001b[0m \u001b[0m_deprecate_force_all_finite\u001b[0m\u001b[0;34m(\u001b[0m\u001b[0mforce_all_finite\u001b[0m\u001b[0;34m,\u001b[0m \u001b[0mensure_all_finite\u001b[0m\u001b[0;34m)\u001b[0m\u001b[0;34m\u001b[0m\u001b[0;34m\u001b[0m\u001b[0m\n\u001b[1;32m   1369\u001b[0m \u001b[0;34m\u001b[0m\u001b[0m\n\u001b[0;32m-> 1370\u001b[0;31m     X = check_array(\n\u001b[0m\u001b[1;32m   1371\u001b[0m         \u001b[0mX\u001b[0m\u001b[0;34m,\u001b[0m\u001b[0;34m\u001b[0m\u001b[0;34m\u001b[0m\u001b[0m\n\u001b[1;32m   1372\u001b[0m         \u001b[0maccept_sparse\u001b[0m\u001b[0;34m=\u001b[0m\u001b[0maccept_sparse\u001b[0m\u001b[0;34m,\u001b[0m\u001b[0;34m\u001b[0m\u001b[0;34m\u001b[0m\u001b[0m\n",
            "\u001b[0;32m/usr/local/lib/python3.11/dist-packages/sklearn/utils/validation.py\u001b[0m in \u001b[0;36mcheck_array\u001b[0;34m(array, accept_sparse, accept_large_sparse, dtype, order, copy, force_writeable, force_all_finite, ensure_all_finite, ensure_non_negative, ensure_2d, allow_nd, ensure_min_samples, ensure_min_features, estimator, input_name)\u001b[0m\n\u001b[1;32m   1137\u001b[0m         \u001b[0mn_features\u001b[0m \u001b[0;34m=\u001b[0m \u001b[0marray\u001b[0m\u001b[0;34m.\u001b[0m\u001b[0mshape\u001b[0m\u001b[0;34m[\u001b[0m\u001b[0;36m1\u001b[0m\u001b[0;34m]\u001b[0m\u001b[0;34m\u001b[0m\u001b[0;34m\u001b[0m\u001b[0m\n\u001b[1;32m   1138\u001b[0m         \u001b[0;32mif\u001b[0m \u001b[0mn_features\u001b[0m \u001b[0;34m<\u001b[0m \u001b[0mensure_min_features\u001b[0m\u001b[0;34m:\u001b[0m\u001b[0;34m\u001b[0m\u001b[0;34m\u001b[0m\u001b[0m\n\u001b[0;32m-> 1139\u001b[0;31m             raise ValueError(\n\u001b[0m\u001b[1;32m   1140\u001b[0m                 \u001b[0;34m\"Found array with %d feature(s) (shape=%s) while\"\u001b[0m\u001b[0;34m\u001b[0m\u001b[0;34m\u001b[0m\u001b[0m\n\u001b[1;32m   1141\u001b[0m                 \u001b[0;34m\" a minimum of %d is required%s.\"\u001b[0m\u001b[0;34m\u001b[0m\u001b[0;34m\u001b[0m\u001b[0m\n",
            "\u001b[0;31mValueError\u001b[0m: Found array with 0 feature(s) (shape=(40148, 0)) while a minimum of 1 is required by LinearRegression."
          ]
        }
      ]
    }
  ],
  "metadata": {
    "colab": {
      "provenance": [],
      "gpuType": "T4"
    },
    "kernelspec": {
      "display_name": "Python 3",
      "name": "python3"
    },
    "language_info": {
      "name": "python"
    },
    "accelerator": "GPU"
  },
  "nbformat": 4,
  "nbformat_minor": 0
}